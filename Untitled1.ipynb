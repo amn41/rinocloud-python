{
 "cells": [
  {
   "cell_type": "code",
   "execution_count": 1,
   "metadata": {
    "collapsed": false
   },
   "outputs": [],
   "source": [
    "import webconnection"
   ]
  },
  {
   "cell_type": "code",
   "execution_count": 2,
   "metadata": {
    "collapsed": false
   },
   "outputs": [
    {
     "data": {
      "text/plain": [
       "'Token 4db774dcfa4f0985591e3571d89f1062e083e638'"
      ]
     },
     "execution_count": 2,
     "metadata": {},
     "output_type": "execute_result"
    }
   ],
   "source": [
    "webconnection.authenticate('4db774dcfa4f0985591e3571d89f1062e083e638')"
   ]
  },
  {
   "cell_type": "code",
   "execution_count": 6,
   "metadata": {
    "collapsed": false
   },
   "outputs": [],
   "source": [
    "newobj = webconnection.Object({'key1': 'val1', 'key2':'val2'})"
   ]
  },
  {
   "cell_type": "code",
   "execution_count": 7,
   "metadata": {
    "collapsed": false
   },
   "outputs": [],
   "source": [
    "newobj.add({'key3': 'val3'})"
   ]
  },
  {
   "cell_type": "code",
   "execution_count": 8,
   "metadata": {
    "collapsed": false
   },
   "outputs": [
    {
     "data": {
      "text/plain": [
       "'val3'"
      ]
     },
     "execution_count": 8,
     "metadata": {},
     "output_type": "execute_result"
    }
   ],
   "source": [
    "newobj.key3"
   ]
  },
  {
   "cell_type": "code",
   "execution_count": 9,
   "metadata": {
    "collapsed": false
   },
   "outputs": [],
   "source": [
    "newobj.filepath='testcsv.txt'"
   ]
  },
  {
   "cell_type": "code",
   "execution_count": 10,
   "metadata": {
    "collapsed": false
   },
   "outputs": [
    {
     "data": {
      "text/plain": [
       "'testcsv.txt'"
      ]
     },
     "execution_count": 10,
     "metadata": {},
     "output_type": "execute_result"
    }
   ],
   "source": [
    "newobj.filepath"
   ]
  },
  {
   "cell_type": "code",
   "execution_count": 11,
   "metadata": {
    "collapsed": false
   },
   "outputs": [
    {
     "name": "stdout",
     "output_type": "stream",
     "text": [
      "<module 'json' from '/System/Library/Frameworks/Python.framework/Versions/2.7/lib/python2.7/json/__init__.pyc'>\n"
     ]
    },
    {
     "data": {
      "text/plain": [
       "'{\\n    \"project_name\": \"eoinisthebest\", \\n    \"name\": \"testcsv(6).txt\", \\n    \"parent\": null, \\n    \"size_str\": \"12.4 kB\", \\n    \"shared\": false, \\n    \"share_code\": null, \\n    \"notes\": null, \\n    \"tags\": null, \\n    \"format_string\": null, \\n    \"project\": 5, \\n    \"created_on\": \"2016-03-01T22:20:35.077573Z\", \\n    \"updated_on\": \"2016-03-01T22:20:35.077606Z\", \\n    \"owner\": \"Jamie\", \\n    \"updated_on_str\": \"just now\", \\n    \"size\": 12361, \\n    \"type\": \"file\", \\n    \"id\": 257, \\n    \"created_on_str\": \"just now\", \\n    \"metadata\": {\\n        \"key3\": \"val3\", \\n        \"key2\": \"val2\", \\n        \"key1\": \"val1\"\\n    }\\n}'"
      ]
     },
     "execution_count": 11,
     "metadata": {},
     "output_type": "execute_result"
    }
   ],
   "source": [
    "newobj.upload()"
   ]
  },
  {
   "cell_type": "code",
   "execution_count": 10,
   "metadata": {
    "collapsed": false
   },
   "outputs": [],
   "source": [
    "a={'key1': 'val1', 'key2': 'val2'}"
   ]
  },
  {
   "cell_type": "code",
   "execution_count": 11,
   "metadata": {
    "collapsed": false
   },
   "outputs": [
    {
     "data": {
      "text/plain": [
       "'val2'"
      ]
     },
     "execution_count": 11,
     "metadata": {},
     "output_type": "execute_result"
    }
   ],
   "source": [
    "a.pop('key2', None)"
   ]
  },
  {
   "cell_type": "code",
   "execution_count": 12,
   "metadata": {
    "collapsed": false
   },
   "outputs": [
    {
     "data": {
      "text/plain": [
       "{'key1': 'val1'}"
      ]
     },
     "execution_count": 12,
     "metadata": {},
     "output_type": "execute_result"
    }
   ],
   "source": [
    "a"
   ]
  },
  {
   "cell_type": "code",
   "execution_count": 3,
   "metadata": {
    "collapsed": true
   },
   "outputs": [],
   "source": [
    "newobj = webconnection.Object(id = 257)"
   ]
  },
  {
   "cell_type": "code",
   "execution_count": 4,
   "metadata": {
    "collapsed": false
   },
   "outputs": [],
   "source": [
    "newobj.get()"
   ]
  },
  {
   "cell_type": "code",
   "execution_count": 5,
   "metadata": {
    "collapsed": false
   },
   "outputs": [
    {
     "data": {
      "text/plain": [
       "{'created_on': '2016-03-01T22:20:35.077573Z',\n",
       " 'created_on_str': '4 days ago',\n",
       " 'field1': 'Some descrition text',\n",
       " 'field2': 'RinoCloud',\n",
       " 'filepath': 'File path not specified.',\n",
       " 'format_string': None,\n",
       " 'id': 257,\n",
       " 'key1': 'val1',\n",
       " 'key2': 'val2',\n",
       " 'key3': 'val3',\n",
       " 'metadata': {'field1': 'Some descrition text',\n",
       "  'field2': 'RinoCloud',\n",
       "  'key1': 'val1',\n",
       "  'key2': 'val2',\n",
       "  'key3': 'val3',\n",
       "  'updatetest': 69},\n",
       " 'name': 'testcsv(6).txt',\n",
       " 'notes': None,\n",
       " 'owner': 'Jamie',\n",
       " 'parent': None,\n",
       " 'project': 5,\n",
       " 'project_name': 'eoinisthebest',\n",
       " 'share_code': None,\n",
       " 'shared': False,\n",
       " 'size': 12361,\n",
       " 'size_str': '12.4 kB',\n",
       " 'tags': ['wooooo'],\n",
       " 'type': 'file',\n",
       " 'updated_on': '2016-03-05T17:08:58.553392Z',\n",
       " 'updated_on_str': '18 hours ago',\n",
       " 'updatetest': 69}"
      ]
     },
     "execution_count": 5,
     "metadata": {},
     "output_type": "execute_result"
    }
   ],
   "source": [
    "vars(newobj)"
   ]
  },
  {
   "cell_type": "code",
   "execution_count": 5,
   "metadata": {
    "collapsed": false
   },
   "outputs": [
    {
     "data": {
      "text/plain": [
       "'testcsv(6).txt'"
      ]
     },
     "execution_count": 5,
     "metadata": {},
     "output_type": "execute_result"
    }
   ],
   "source": [
    "newobj.download()"
   ]
  },
  {
   "cell_type": "code",
   "execution_count": 7,
   "metadata": {
    "collapsed": false
   },
   "outputs": [
    {
     "name": "stdout",
     "output_type": "stream",
     "text": [
      "{\"parent\": null, \"tags\": [\"wooooo\"], \"key3\": \"val3\", \"key2\": \"val2\", \"key1\": \"val1\", \"id\": 257, \"name\": \"testcsv(6).txt\", \"field2\": \"RinoCloud\", \"notes\": null, \"field1\": \"Some descrition text\", \"nextupdatetest\": 69, \"updatetest\": 69, \"format_string\": null}\n"
     ]
    }
   ],
   "source": [
    "newobj.update()"
   ]
  },
  {
   "cell_type": "code",
   "execution_count": 8,
   "metadata": {
    "collapsed": false
   },
   "outputs": [
    {
     "data": {
      "text/plain": [
       "{'created_on': '2016-03-01T22:20:35.077573Z',\n",
       " 'created_on_str': '4 days ago',\n",
       " 'field1': 'Some descrition text',\n",
       " 'field2': 'RinoCloud',\n",
       " 'filepath': 'File path not specified.',\n",
       " 'format_string': None,\n",
       " 'id': 257,\n",
       " 'key1': 'val1',\n",
       " 'key2': 'val2',\n",
       " 'key3': 'val3',\n",
       " 'metadata': {'field1': 'Some descrition text',\n",
       "  'field2': 'RinoCloud',\n",
       "  'key1': 'val1',\n",
       "  'key2': 'val2',\n",
       "  'key3': 'val3',\n",
       "  'nextupdatetest': 69,\n",
       "  'updatetest': 69},\n",
       " 'name': 'testcsv(6).txt',\n",
       " 'nextupdatetest': 69,\n",
       " 'notes': None,\n",
       " 'owner': 'Jamie',\n",
       " 'parent': None,\n",
       " 'project': 5,\n",
       " 'project_name': 'eoinisthebest',\n",
       " 'share_code': None,\n",
       " 'shared': False,\n",
       " 'size': 12361,\n",
       " 'size_str': '12.4 kB',\n",
       " 'tags': ['wooooo'],\n",
       " 'type': 'file',\n",
       " 'updated_on': '2016-03-06T11:43:32.733877Z',\n",
       " 'updated_on_str': 'just now',\n",
       " 'updatetest': 69}"
      ]
     },
     "execution_count": 8,
     "metadata": {},
     "output_type": "execute_result"
    }
   ],
   "source": [
    "vars(newobj)"
   ]
  },
  {
   "cell_type": "code",
   "execution_count": 25,
   "metadata": {
    "collapsed": false
   },
   "outputs": [],
   "source": [
    "import requests\n",
    "import json\n",
    "payload = {\n",
    "  'id': 257,\n",
    "  'field1': 'Some descrition text',\n",
    "  'field2': [100.5, 'RinoCloud']\n",
    "}\n",
    "\n",
    "headers = {\n",
    "        'Authorization': webconnection.authenticate(),\n",
    "        'X-Requested-With': 'XMLHttpRequest'\n",
    "        \n",
    "        }\n",
    "\n",
    "r = requests.post('http://staging.rinocloud.com/api/1/files/update_metadata/',\n",
    "                  data={'json': json.dumps(payload)}, headers=headers)"
   ]
  },
  {
   "cell_type": "code",
   "execution_count": 26,
   "metadata": {
    "collapsed": false
   },
   "outputs": [
    {
     "data": {
      "text/plain": [
       "'<h1>Not Found</h1><p>The requested URL /api/1/files/update/ was not found on this server.</p>'"
      ]
     },
     "execution_count": 26,
     "metadata": {},
     "output_type": "execute_result"
    }
   ],
   "source": [
    "r._content"
   ]
  },
  {
   "cell_type": "code",
   "execution_count": 6,
   "metadata": {
    "collapsed": false
   },
   "outputs": [
    {
     "name": "stdout",
     "output_type": "stream",
     "text": [
      "hello\n"
     ]
    }
   ],
   "source": [
    "a=4\n",
    "if a:\n",
    "    print 'hello'"
   ]
  },
  {
   "cell_type": "code",
   "execution_count": null,
   "metadata": {
    "collapsed": true
   },
   "outputs": [],
   "source": []
  }
 ],
 "metadata": {
  "kernelspec": {
   "display_name": "Python 2",
   "language": "python",
   "name": "python2"
  },
  "language_info": {
   "codemirror_mode": {
    "name": "ipython",
    "version": 2
   },
   "file_extension": ".py",
   "mimetype": "text/x-python",
   "name": "python",
   "nbconvert_exporter": "python",
   "pygments_lexer": "ipython2",
   "version": "2.7.10"
  }
 },
 "nbformat": 4,
 "nbformat_minor": 0
}
