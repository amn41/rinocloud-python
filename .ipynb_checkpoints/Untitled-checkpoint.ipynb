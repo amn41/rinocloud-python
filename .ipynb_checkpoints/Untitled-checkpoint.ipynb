{
 "cells": [
  {
   "cell_type": "code",
   "execution_count": 1,
   "metadata": {
    "collapsed": false
   },
   "outputs": [],
   "source": [
    "import webconnection"
   ]
  },
  {
   "cell_type": "code",
   "execution_count": 2,
   "metadata": {
    "collapsed": false
   },
   "outputs": [
    {
     "data": {
      "text/plain": [
       "'Token 4db774dcfa4f0985591e3571d89f1062e083e638'"
      ]
     },
     "execution_count": 2,
     "metadata": {},
     "output_type": "execute_result"
    }
   ],
   "source": [
    "webconnection.authenticate('4db774dcfa4f0985591e3571d89f1062e083e638')"
   ]
  },
  {
   "cell_type": "code",
   "execution_count": 3,
   "metadata": {
    "collapsed": false
   },
   "outputs": [
    {
     "data": {
      "text/plain": [
       "'{\\n    \"project_name\": \"eoinisthebest\", \\n    \"name\": \"WebconnTest\", \\n    \"parent\": null, \\n    \"size_str\": \"\", \\n    \"shared\": false, \\n    \"share_code\": null, \\n    \"notes\": null, \\n    \"tags\": null, \\n    \"format_string\": null, \\n    \"project\": 5, \\n    \"created_on\": \"2016-02-28T22:09:38.852801Z\", \\n    \"updated_on\": \"2016-02-28T22:09:38.852844Z\", \\n    \"owner\": \"Jamie\", \\n    \"updated_on_str\": \"just now\", \\n    \"size\": 0, \\n    \"type\": \"file\", \\n    \"id\": 242, \\n    \"created_on_str\": \"just now\", \\n    \"metadata\": {}\\n}'"
      ]
     },
     "execution_count": 3,
     "metadata": {},
     "output_type": "execute_result"
    }
   ],
   "source": [
    "webconnection.RinoBase.POST('files/create_empty/', _json={'name': 'WebconnTest'})"
   ]
  },
  {
   "cell_type": "code",
   "execution_count": 4,
   "metadata": {
    "collapsed": false
   },
   "outputs": [
    {
     "ename": "AttributeError",
     "evalue": "'module' object has no attribute 'POST'",
     "output_type": "error",
     "traceback": [
      "\u001b[0;31m---------------------------------------------------------------------------\u001b[0m",
      "\u001b[0;31mAttributeError\u001b[0m                            Traceback (most recent call last)",
      "\u001b[0;32m<ipython-input-4-7ef219ac271a>\u001b[0m in \u001b[0;36m<module>\u001b[0;34m()\u001b[0m\n\u001b[0;32m----> 1\u001b[0;31m \u001b[0mwebconnection\u001b[0m\u001b[0;34m.\u001b[0m\u001b[0mPOST\u001b[0m\u001b[0;34m(\u001b[0m\u001b[0;34m'files/create_empty/'\u001b[0m\u001b[0;34m,\u001b[0m \u001b[0m_json\u001b[0m\u001b[0;34m=\u001b[0m\u001b[0;34m{\u001b[0m\u001b[0;34m'name'\u001b[0m\u001b[0;34m:\u001b[0m \u001b[0;34m'WebconnTest'\u001b[0m\u001b[0;34m}\u001b[0m\u001b[0;34m)\u001b[0m\u001b[0;34m\u001b[0m\u001b[0m\n\u001b[0m",
      "\u001b[0;31mAttributeError\u001b[0m: 'module' object has no attribute 'POST'"
     ]
    }
   ],
   "source": [
    "webconnection.POST('files/create_empty/', _json={'name': 'WebconnTest'})"
   ]
  },
  {
   "cell_type": "code",
   "execution_count": 5,
   "metadata": {
    "collapsed": false
   },
   "outputs": [
    {
     "data": {
      "text/plain": [
       "dict"
      ]
     },
     "execution_count": 5,
     "metadata": {},
     "output_type": "execute_result"
    }
   ],
   "source": [
    "type({'test':'dictionary'})"
   ]
  },
  {
   "cell_type": "code",
   "execution_count": 6,
   "metadata": {
    "collapsed": true
   },
   "outputs": [],
   "source": [
    "def authenticate(*args):\n",
    "    if len(args)>1:\n",
    "        raise Exception('authenticate takes only 0 or 1 input arguments.') \n",
    "    # Save API token if given\n",
    "    global rinocloud_auth_token\n",
    "    if len(args) == 1:\n",
    "        if isinstance(args[0], str):\n",
    "            rinocloud_auth_token = args[0]\n",
    "        else:\n",
    "            raise Exception('Your API token should be entered as a string.') \n",
    "    # Return API token if not given an input argument        \n",
    "    try:\n",
    "        return 'Token ' + rinocloud_auth_token\n",
    "    except:\n",
    "        raise Exception('Set your API token using the authenticate function.') \n",
    "\n",
    "API_ROOT = 'http://staging.rinocloud.com/api/1/'\n",
    "CONNECTION_TIMEOUT = 60\n",
    "\n",
    "class RinoRequests(object):\n",
    "\n",
    "    @classmethod\n",
    "    def GET(cls, uri, **kw):\n",
    "        return cls.execute(uri, 'GET', **kw)\n",
    "\n",
    "    @classmethod\n",
    "    def POST(cls, uri, **kw):\n",
    "        return cls.execute(uri, 'POST', **kw)\n",
    "\n",
    "    @classmethod\n",
    "    def execute(cls, uri, http_verb, extra_headers=None, _file=None, _json=None, **kw):\n",
    "        url = API_ROOT + uri\n",
    "        headers = {\n",
    "        'Authorization': authenticate(),\n",
    "        'X-Requested-With': 'XMLHttpRequest'\n",
    "        }\n",
    "        if http_verb == 'GET':\n",
    "            r=requests.get(url, json=_json, headers=headers)\n",
    "        elif http_verb == 'POST':\n",
    "            r=requests.post(url, json=_json, files=_file, headers=headers)\n",
    "        return json.dumps(r.json(), indent=4)"
   ]
  },
  {
   "cell_type": "code",
   "execution_count": 171,
   "metadata": {
    "collapsed": false
   },
   "outputs": [],
   "source": [
    "class Object(RinoRequests):\n",
    "    def __init__(self, params, filepath='File path not specified.'):\n",
    "        self.filepath = filepath\n",
    "        self.__dict__.update(params)\n",
    "        print self.__dict__\n",
    "    def add(self, params):\n",
    "        self.__dict__.update(params)\n",
    "    def out(self):\n",
    "        print self.instance.__dict__\n",
    "    \n",
    "\n",
    "        "
   ]
  },
  {
   "cell_type": "code",
   "execution_count": 172,
   "metadata": {
    "collapsed": false
   },
   "outputs": [],
   "source": [
    "testobj = Object({'key1': 33, 'key2': 44, 'filepath':'woohoo'})"
   ]
  },
  {
   "cell_type": "code",
   "execution_count": 134,
   "metadata": {
    "collapsed": false
   },
   "outputs": [],
   "source": [
    "testobj.add({'key1': 55})"
   ]
  },
  {
   "cell_type": "code",
   "execution_count": 173,
   "metadata": {
    "collapsed": false
   },
   "outputs": [
    {
     "data": {
      "text/plain": [
       "{'filepath': 'woohoo', 'key1': 33, 'key2': 44}"
      ]
     },
     "execution_count": 173,
     "metadata": {},
     "output_type": "execute_result"
    }
   ],
   "source": [
    "vars(testobj)"
   ]
  },
  {
   "cell_type": "code",
   "execution_count": 174,
   "metadata": {
    "collapsed": false
   },
   "outputs": [
    {
     "data": {
      "text/plain": [
       "{'filepath': 'woohoo', 'key1': 33, 'key2': 44}"
      ]
     },
     "execution_count": 174,
     "metadata": {},
     "output_type": "execute_result"
    }
   ],
   "source": [
    "testobj.__dict__"
   ]
  },
  {
   "cell_type": "code",
   "execution_count": 72,
   "metadata": {
    "collapsed": false
   },
   "outputs": [],
   "source": [
    "out={key:value for key, value in testobj.__dict__.items() if not key.startswith('__') and not callable(key)}"
   ]
  },
  {
   "cell_type": "code",
   "execution_count": 176,
   "metadata": {
    "collapsed": false
   },
   "outputs": [
    {
     "data": {
      "text/plain": [
       "<bound method Object.out of <__main__.Object object at 0x109a5d550>>"
      ]
     },
     "execution_count": 176,
     "metadata": {},
     "output_type": "execute_result"
    }
   ],
   "source": [
    "testobj.out\n"
   ]
  },
  {
   "cell_type": "code",
   "execution_count": 121,
   "metadata": {
    "collapsed": false
   },
   "outputs": [
    {
     "data": {
      "text/plain": [
       "{'filepath': 'woohoo', 'key1': 33, 'key2': 44}"
      ]
     },
     "execution_count": 121,
     "metadata": {},
     "output_type": "execute_result"
    }
   ],
   "source": [
    "testobj.__dict__"
   ]
  },
  {
   "cell_type": "code",
   "execution_count": 79,
   "metadata": {
    "collapsed": false
   },
   "outputs": [
    {
     "ename": "AttributeError",
     "evalue": "'function' object has no attribute 'key1'",
     "output_type": "error",
     "traceback": [
      "\u001b[0;31m---------------------------------------------------------------------------\u001b[0m",
      "\u001b[0;31mAttributeError\u001b[0m                            Traceback (most recent call last)",
      "\u001b[0;32m<ipython-input-79-edbe4064b8b6>\u001b[0m in \u001b[0;36m<module>\u001b[0;34m()\u001b[0m\n\u001b[0;32m----> 1\u001b[0;31m \u001b[0ma\u001b[0m\u001b[0;34m.\u001b[0m\u001b[0mkey1\u001b[0m\u001b[0;34m\u001b[0m\u001b[0m\n\u001b[0m",
      "\u001b[0;31mAttributeError\u001b[0m: 'function' object has no attribute 'key1'"
     ]
    }
   ],
   "source": [
    "def __init__(self, params):\n",
    "        self.__dict__.update(params)"
   ]
  },
  {
   "cell_type": "code",
   "execution_count": null,
   "metadata": {
    "collapsed": true
   },
   "outputs": [],
   "source": []
  }
 ],
 "metadata": {
  "kernelspec": {
   "display_name": "Python 2",
   "language": "python",
   "name": "python2"
  },
  "language_info": {
   "codemirror_mode": {
    "name": "ipython",
    "version": 2
   },
   "file_extension": ".py",
   "mimetype": "text/x-python",
   "name": "python",
   "nbconvert_exporter": "python",
   "pygments_lexer": "ipython2",
   "version": "2.7.10"
  }
 },
 "nbformat": 4,
 "nbformat_minor": 0
}
