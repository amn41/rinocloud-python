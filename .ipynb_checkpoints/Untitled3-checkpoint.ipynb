{
 "cells": [
  {
   "cell_type": "code",
   "execution_count": 48,
   "metadata": {
    "collapsed": false
   },
   "outputs": [],
   "source": [
    "from six.moves.urllib.request import Request, urlopen\n",
    "from six.moves.urllib.error import HTTPError\n",
    "from six.moves.urllib.parse import urlencode #probably don't need these\n",
    "import json\n",
    "import requests\n",
    "\n",
    "def authenticate(*args):\n",
    "    if len(args)>1:\n",
    "        raise Exception('authenticate takes only 0 or 1 input arguments.') \n",
    "    # Save API token if given\n",
    "    global rinocloud_auth_token\n",
    "    if len(args) == 1:\n",
    "        if isinstance(args[0], str):\n",
    "            rinocloud_auth_token = args[0]\n",
    "        else:\n",
    "            raise Exception('Your API token should be entered as a string.') \n",
    "    # Return API token if not given an input argument        \n",
    "    try:\n",
    "        return 'Token ' + rinocloud_auth_token\n",
    "    except:\n",
    "        raise Exception('Set your API token using the authenticate function.') \n",
    "\n",
    "API_ROOT = 'http://staging.rinocloud.com/api/1/'\n",
    "CONNECTION_TIMEOUT = 60\n",
    "\n",
    "\n",
    "def json_loads_byteified(json_text):\n",
    "    return _byteify(\n",
    "        json.loads(json_text, object_hook=_byteify),\n",
    "        ignore_dicts=True\n",
    "    )\n",
    "\n",
    "def _byteify(data, ignore_dicts = False):\n",
    "    # if this is a unicode string, return its string representation\n",
    "    if isinstance(data, unicode):\n",
    "        return data.encode('utf-8')\n",
    "    # if this is a list of values, return list of byteified values\n",
    "    if isinstance(data, list):\n",
    "        return [ _byteify(item, ignore_dicts=True) for item in data ]\n",
    "    # if this is a dictionary, return dictionary of byteified keys and values\n",
    "    # but only if we haven't already byteified it\n",
    "    if isinstance(data, dict) and not ignore_dicts:\n",
    "        return {\n",
    "            _byteify(key, ignore_dicts=True): _byteify(value, ignore_dicts=True)\n",
    "            for key, value in data.iteritems()\n",
    "        }\n",
    "    # if it's anything else, return it in its original form\n",
    "    return data\n",
    "\n",
    "def dictionary_clean_up(dictionary):\n",
    "    new_dict = dictionary.copy()\n",
    "    for key in ['created_on', 'created_on_str', 'file', 'metadata', 'owner', 'project', 'project_name', 'share_code', 'shared', 'size', 'size_str', 'type', 'updated_on', 'updated_on_str' ]:\n",
    "        new_dict.pop(key, None)\n",
    "    return new_dict\n",
    "\n",
    "class RinoRequests(object):\n",
    "\n",
    "    @classmethod\n",
    "    def GET(cls, uri, **kw):\n",
    "        return cls.execute(uri, 'GET', **kw)\n",
    "\n",
    "    @classmethod\n",
    "    def POST(cls, uri, **kw):\n",
    "        return cls.execute(uri, 'POST', **kw)\n",
    "\n",
    "    @classmethod\n",
    "    def execute(cls, uri, http_verb, extra_headers=None, _file=None, _json=None, _data=None, _stream = False, **kw):\n",
    "        url = API_ROOT + uri\n",
    "        headers = {\n",
    "        'Authorization': authenticate(),\n",
    "        'X-Requested-With': 'XMLHttpRequest'\n",
    "        }\n",
    "        if http_verb == 'GET':\n",
    "            r = requests.get(url, json=_json, headers=headers, stream = _stream)\n",
    "        elif http_verb == 'POST':\n",
    "            r = requests.post(url, json=_json, files=_file, data=_data, headers=headers)\n",
    "        return r\n",
    "\n",
    "\n",
    "class Object(RinoRequests):\n",
    "    def __init__(self, metadata = {}, file=None, parent = None, tags = None, id=None, **kwargs):\n",
    "        self.file = file\n",
    "        self.parent = parent\n",
    "        self.tags = tags\n",
    "        self.id = id\n",
    "        self.metadata = metadata\n",
    "        self.__dict__.update(metadata)\n",
    "        self.metadata.update({'parent' : self.parent, 'tags' : self.tags, 'id' : self.id})\n",
    "        self.__dict__.update(kwargs.pop('Obj_from_dict', ''))\n",
    "        \n",
    "            \n",
    "        \n",
    "    \n",
    "        \n",
    "    def metadata_dict_update(self):\n",
    "        self.metadata.update({'parent' : self.parent, 'tags' : self.tags, 'id' : self.id})\n",
    "   \n",
    "    def add(self, params):\n",
    "        self.metadata.update(params)\n",
    "        self.__dict__.update(params)\n",
    "    \n",
    "    def upload(self):\n",
    "        self.metadata_dict_update()\n",
    "        uri = 'files/upload_multipart/'\n",
    "        response = self.__class__.POST(uri, _data = {'json': json.dumps(self.metadata)}, _file = {'file': self.file})\n",
    "        self.__dict__.update(json_loads_byteified(response._content))\n",
    "        # instead of returning something - update dict.\n",
    "        # include hidden object to check if upload has already been called and throw error if there is no filepath specified\n",
    "\n",
    "    def get(self):\n",
    "        uri = 'files/get_metadata/'\n",
    "        response = self.__class__.POST(uri, _data = {'id': self.id})\n",
    "        dictionary = json_loads_byteified(response._content)\n",
    "        self.metadata = dictionary.get('metadata')\n",
    "        self.__dict__.update(dictionary)\n",
    "        self.__dict__.update(self.metadata)\n",
    "\n",
    "    def update(self):\n",
    "        self.metadata_dict_update()\n",
    "        uri = 'files/update_metadata/'\n",
    "        response = self.__class__.POST(uri, _data = self.metadata_dict)\n",
    "        dictionary = json_loads_byteified(response._content)\n",
    "        print dictionary\n",
    "        print dictionary.get('metadata')\n",
    "        self.metadata = dictionary.get('metadata')\n",
    "        self.__dict__.update(dictionary)\n",
    "        self.__dict__.update(self.metadata)\n",
    "        \n",
    "    def download(self, *filename):\n",
    "        uri = 'files/download/?id=' + str(self.id)\n",
    "        if filename:\n",
    "            local_filename = filename\n",
    "        elif self.name:\n",
    "            local_filename = self.name\n",
    "        else:\n",
    "            self.get()\n",
    "            local_filename = self.name\n",
    "        response = self.__class__.GET(uri, _stream=True)\n",
    "        with open(local_filename, 'wb') as f:\n",
    "            for chunk in response.iter_content(chunk_size=1024):\n",
    "                if chunk:\n",
    "                    f.write(chunk)\n",
    "        return local_filename\n",
    "    \n",
    "\n",
    "\n",
    "class Queryset(RinoRequests):\n",
    "\n",
    "    def __init__(self, dictionary = {}, results = {'results' : 'The query method has not yet been called.'}):\n",
    "        self.dictionary = dictionary\n",
    "        self.results = results\n",
    "\n",
    "    OPERATORS = [\n",
    "        'lt', 'lte', 'gt', 'gte', 'ne', 'in', 'nin', 'exists', 'or' \n",
    "    ]\n",
    "\n",
    "    @classmethod\n",
    "    def extract_filter_operator(cls, parameter):\n",
    "        for op in cls.OPERATORS:\n",
    "            underscored = '__%s' % op\n",
    "            if parameter.endswith(underscored):\n",
    "                return parameter[:-len(underscored)], op\n",
    "        return parameter, None\n",
    "\n",
    "    def filter(self, **kw):\n",
    "        #q = copy.deepcopy(self)\n",
    "        for name, value in kw.items():\n",
    "            attr, operator = Queryset.extract_filter_operator(name)\n",
    "            if operator is None:\n",
    "                self.dictionary[attr] = value\n",
    "            elif operator is 'or':\n",
    "                option_list = []\n",
    "                for option in value:\n",
    "                    option_list.append({attr : option})\n",
    "                self.dictionary['$' + operator] = option_list\n",
    "            else:\n",
    "                if attr in self.dictionary:\n",
    "                    self.dictionary[attr]['$'+ operator] = value\n",
    "                else:\n",
    "                    self.dictionary[attr] = {'$'+ operator : value}\n",
    "                    \n",
    "        return self\n",
    "\n",
    "    def query(self):\n",
    "         uri = 'files/query/'\n",
    "         response = self.__class__.POST(uri, _json = {'query' : self.dictionary})        \n",
    "         reply = json_loads_byteified(response._content)\n",
    "         self.results = []\n",
    "         for obj in reply['result']:\n",
    "            self.results.append(Object(Obj_from_dict=obj)) \n",
    "         return self.results\n",
    "\n",
    "        # to add: \n",
    "        # update: updates metadata\n",
    "        # download: downloads file \n",
    "\n",
    "\n"
   ]
  },
  {
   "cell_type": "code",
   "execution_count": 174,
   "metadata": {
    "collapsed": false
   },
   "outputs": [],
   "source": [
    "obj = Object()"
   ]
  },
  {
   "cell_type": "code",
   "execution_count": 175,
   "metadata": {
    "collapsed": false
   },
   "outputs": [],
   "source": [
    "obj.file = open('testcsv.txt', 'r')\n",
    "\n"
   ]
  },
  {
   "cell_type": "code",
   "execution_count": 49,
   "metadata": {
    "collapsed": false
   },
   "outputs": [
    {
     "data": {
      "text/plain": [
       "'Token 4db774dcfa4f0985591e3571d89f1062e083e638'"
      ]
     },
     "execution_count": 49,
     "metadata": {},
     "output_type": "execute_result"
    }
   ],
   "source": [
    "authenticate('4db774dcfa4f0985591e3571d89f1062e083e638')"
   ]
  },
  {
   "cell_type": "code",
   "execution_count": 167,
   "metadata": {
    "collapsed": false
   },
   "outputs": [
    {
     "data": {
      "text/plain": [
       "{'file': {'file': <open file 'testcsv.txt', mode 'r' at 0x104de1f60>},\n",
       " 'id': 266,\n",
       " 'metadata': {'id': 266, 'parent': None, 'tags': None},\n",
       " 'parent': None,\n",
       " 'tags': None}"
      ]
     },
     "execution_count": 167,
     "metadata": {},
     "output_type": "execute_result"
    }
   ],
   "source": [
    "vars(obj)"
   ]
  },
  {
   "cell_type": "code",
   "execution_count": 176,
   "metadata": {
    "collapsed": false
   },
   "outputs": [],
   "source": [
    "obj.upload()"
   ]
  },
  {
   "cell_type": "code",
   "execution_count": 172,
   "metadata": {
    "collapsed": false
   },
   "outputs": [
    {
     "name": "stdout",
     "output_type": "stream",
     "text": [
      "{\"id\":266,\"metadata\":{\"hh\":6},\"type\":\"file\",\"project_name\":\"eoinisthebest\",\"share_code\":null,\"owner\":\"Jamie\",\"size_str\":\"12.4 kB\",\"updated_on_str\":\"a day ago\",\"created_on_str\":\"a day ago\",\"created_on\":\"2016-03-19T19:32:24.884993Z\",\"updated_on\":\"2016-03-19T19:56:55.892570Z\",\"shared\":false,\"name\":\"testcsv(14).txt\",\"tags\":null,\"notes\":null,\"size\":12361,\"format_string\":null,\"project\":5,\"parent\":null}\n"
     ]
    }
   ],
   "source": [
    "obj.get()"
   ]
  },
  {
   "cell_type": "code",
   "execution_count": 177,
   "metadata": {
    "collapsed": false
   },
   "outputs": [
    {
     "data": {
      "text/plain": [
       "{'created_on': '2016-03-20T23:26:40.695617Z',\n",
       " 'created_on_str': 'just now',\n",
       " 'file': <open file 'testcsv.txt', mode 'r' at 0x104c9e5d0>,\n",
       " 'format_string': None,\n",
       " 'id': 268,\n",
       " 'metadata': {},\n",
       " 'name': 'testcsv(16).txt',\n",
       " 'notes': None,\n",
       " 'owner': 'Jamie',\n",
       " 'parent': None,\n",
       " 'project': 5,\n",
       " 'project_name': 'eoinisthebest',\n",
       " 'share_code': None,\n",
       " 'shared': False,\n",
       " 'size': 12361,\n",
       " 'size_str': '12.4 kB',\n",
       " 'tags': None,\n",
       " 'type': 'file',\n",
       " 'updated_on': '2016-03-20T23:26:40.695641Z',\n",
       " 'updated_on_str': 'just now'}"
      ]
     },
     "execution_count": 177,
     "metadata": {},
     "output_type": "execute_result"
    }
   ],
   "source": [
    "vars(obj)"
   ]
  },
  {
   "cell_type": "code",
   "execution_count": 159,
   "metadata": {
    "collapsed": false
   },
   "outputs": [
    {
     "name": "stdout",
     "output_type": "stream",
     "text": [
      "{'updated_on_str': 'just now', 'project_name': 'eoinisthebest', 'name': 'testcsv(14).txt', 'parent': None, 'size_str': '12.4 kB', 'share_code': None, 'notes': None, 'tags': None, 'id': 266, 'project': 5, 'created_on': '2016-03-19T19:32:24.884993Z', 'updated_on': '2016-03-19T19:56:55.892570Z', 'owner': 'Jamie', 'shared': False, 'metadata': {'hh': 6}, 'type': 'file', 'format_string': None, 'created_on_str': '24 minutes ago', 'size': 12361}\n",
      "{'hh': 6}\n"
     ]
    }
   ],
   "source": [
    "obj.update()"
   ]
  },
  {
   "cell_type": "code",
   "execution_count": 160,
   "metadata": {
    "collapsed": false
   },
   "outputs": [
    {
     "data": {
      "text/plain": [
       "{'created_on': '2016-03-19T19:32:24.884993Z',\n",
       " 'created_on_str': '24 minutes ago',\n",
       " 'file': None,\n",
       " 'format_string': None,\n",
       " 'hh': 6,\n",
       " 'id': 266,\n",
       " 'metadata': {'hh': 6},\n",
       " 'metadata_dict': {'hh': 6},\n",
       " 'name': 'testcsv(14).txt',\n",
       " 'notes': None,\n",
       " 'owner': 'Jamie',\n",
       " 'parent': None,\n",
       " 'project': 5,\n",
       " 'project_name': 'eoinisthebest',\n",
       " 'share_code': None,\n",
       " 'shared': False,\n",
       " 'size': 12361,\n",
       " 'size_str': '12.4 kB',\n",
       " 'tags': None,\n",
       " 'type': 'file',\n",
       " 'updated_on': '2016-03-19T19:56:55.892570Z',\n",
       " 'updated_on_str': 'just now'}"
      ]
     },
     "execution_count": 160,
     "metadata": {},
     "output_type": "execute_result"
    }
   ],
   "source": [
    "vars(obj)"
   ]
  },
  {
   "cell_type": "code",
   "execution_count": 50,
   "metadata": {
    "collapsed": true
   },
   "outputs": [],
   "source": [
    "qobj = Queryset()"
   ]
  },
  {
   "cell_type": "code",
   "execution_count": 51,
   "metadata": {
    "collapsed": false
   },
   "outputs": [
    {
     "data": {
      "text/plain": [
       "<__main__.Queryset at 0x10687ea50>"
      ]
     },
     "execution_count": 51,
     "metadata": {},
     "output_type": "execute_result"
    }
   ],
   "source": [
    "qobj.filter(key1__gte=1)"
   ]
  },
  {
   "cell_type": "code",
   "execution_count": 52,
   "metadata": {
    "collapsed": false
   },
   "outputs": [],
   "source": [
    "res=qobj.query()"
   ]
  },
  {
   "cell_type": "code",
   "execution_count": 182,
   "metadata": {
    "collapsed": false
   },
   "outputs": [
    {
     "data": {
      "text/plain": [
       "dict"
      ]
     },
     "execution_count": 182,
     "metadata": {},
     "output_type": "execute_result"
    }
   ],
   "source": [
    "type(qobj.results)"
   ]
  },
  {
   "cell_type": "code",
   "execution_count": 19,
   "metadata": {
    "collapsed": false
   },
   "outputs": [],
   "source": [
    "obj=Object(Obj_from_dict={'test' : 24, 'test2' : 44})"
   ]
  },
  {
   "cell_type": "code",
   "execution_count": 20,
   "metadata": {
    "collapsed": false
   },
   "outputs": [
    {
     "data": {
      "text/plain": [
       "{'file': None,\n",
       " 'id': None,\n",
       " 'metadata': {'id': None, 'parent': None, 'tags': None},\n",
       " 'parent': None,\n",
       " 'tags': None,\n",
       " 'test': 24,\n",
       " 'test2': 44}"
      ]
     },
     "execution_count": 20,
     "metadata": {},
     "output_type": "execute_result"
    }
   ],
   "source": [
    "vars(obj)"
   ]
  },
  {
   "cell_type": "code",
   "execution_count": 55,
   "metadata": {
    "collapsed": false
   },
   "outputs": [],
   "source": [
    "a=res[1]"
   ]
  },
  {
   "cell_type": "code",
   "execution_count": 57,
   "metadata": {
    "collapsed": false
   },
   "outputs": [
    {
     "data": {
      "text/plain": [
       "'testcsv(4).txt'"
      ]
     },
     "execution_count": 57,
     "metadata": {},
     "output_type": "execute_result"
    }
   ],
   "source": [
    "a.download()"
   ]
  },
  {
   "cell_type": "code",
   "execution_count": null,
   "metadata": {
    "collapsed": true
   },
   "outputs": [],
   "source": []
  }
 ],
 "metadata": {
  "kernelspec": {
   "display_name": "Python 2",
   "language": "python",
   "name": "python2"
  },
  "language_info": {
   "codemirror_mode": {
    "name": "ipython",
    "version": 2
   },
   "file_extension": ".py",
   "mimetype": "text/x-python",
   "name": "python",
   "nbconvert_exporter": "python",
   "pygments_lexer": "ipython2",
   "version": "2.7.10"
  }
 },
 "nbformat": 4,
 "nbformat_minor": 0
}
