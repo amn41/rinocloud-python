{
 "cells": [
  {
   "cell_type": "code",
   "execution_count": 54,
   "metadata": {
    "collapsed": false
   },
   "outputs": [],
   "source": [
    "import json\n",
    "import requests\n",
    "import copy\n",
    "import glob\n",
    "import os\n",
    "\n",
    "API_ROOT = 'http://staging.rinocloud.com/api/1/'\n",
    "URI = {'upload' : 'files/upload_multipart/', 'get' : 'files/get_metadata/' ,'update' : 'files/update_metadata/',\n",
    "           'download' : 'files/download/?id=', 'query' : 'files/query/'}\n",
    "\n",
    "def authenticate(*args):\n",
    "    if len(args)>1:\n",
    "        raise Exception('authenticate takes only 0 or 1 input arguments.') \n",
    "    # Save API token if given\n",
    "    global rinocloud_auth_token\n",
    "    if len(args) == 1:\n",
    "        if isinstance(args[0], str):\n",
    "            rinocloud_auth_token = args[0]\n",
    "        else:\n",
    "            raise Exception('Your API token should be entered as a string.') \n",
    "    # Return API token if not given an input argument        \n",
    "    try:\n",
    "        return 'Token ' + rinocloud_auth_token\n",
    "    except:\n",
    "        raise Exception('Set your API token using the authenticate function.') \n",
    "\n",
    "def json_loads_byteified(json_text):\n",
    "    return _byteify(\n",
    "        json.loads(json_text, object_hook=_byteify),\n",
    "        ignore_dicts=True\n",
    "    )\n",
    "\n",
    "def _byteify(data, ignore_dicts = False):\n",
    "    # if this is a unicode string, return its string representation\n",
    "    if isinstance(data, unicode):\n",
    "        return data.encode('utf-8')\n",
    "    # if this is a list of values, return list of byteified values\n",
    "    if isinstance(data, list):\n",
    "        return [ _byteify(item, ignore_dicts=True) for item in data ]\n",
    "    # if this is a dictionary, return dictionary of byteified keys and values\n",
    "    # but only if we haven't already byteified it\n",
    "    if isinstance(data, dict) and not ignore_dicts:\n",
    "        return {\n",
    "            _byteify(key, ignore_dicts=True): _byteify(value, ignore_dicts=True)\n",
    "            for key, value in data.iteritems()\n",
    "        }\n",
    "    # if it's anything else, return it in its original form\n",
    "    return data\n",
    "\n",
    "class batch():\n",
    "    @staticmethod\n",
    "    def download(obj_list):\n",
    "        for obj in obj_list:\n",
    "            obj.download()\n",
    "    \n",
    "    @staticmethod\n",
    "    def upload(obj_list):\n",
    "        for obj in obj_list:\n",
    "            obj.upload()\n",
    "\n",
    "    @staticmethod        \n",
    "    def add(obj_list, params):\n",
    "        for obj in obj_list:\n",
    "            obj.add(params)\n",
    "\n",
    "    @staticmethod       \n",
    "    def get(obj_list):\n",
    "        for obj in obj_list:\n",
    "            obj.get()\n",
    "\n",
    "    @staticmethod        \n",
    "    def update(obj_list):\n",
    "        for obj in obj_list:\n",
    "            obj.update()\n",
    "    \n",
    "    @staticmethod\n",
    "    def objects_from_filename_list(file_list, json_from_file=True):\n",
    "        #test if it works for single files\n",
    "        obj_list = []\n",
    "        for filename in file_list:\n",
    "            obj_list.append(Object(file=open(filename, \"rb\")))\n",
    "        if json_from_file == True:\n",
    "            for obj in obj_list:\n",
    "                try:\n",
    "                    obj.get_from_json_local(obj.file.name + '.json')\n",
    "                except:\n",
    "                    pass\n",
    "        return obj_list\n",
    "    \n",
    "    @staticmethod\n",
    "    def objects_from_folder(folder_path, file_type=None, json_from_file=True):\n",
    "        if file_type == None:\n",
    "            file_list = glob.glob(folder_path + '/*')\n",
    "            for filename in file_list:\n",
    "                if '.json' == os.path.splitext(filename)[1]:\n",
    "                    aList.remove(filename);\n",
    "        else:\n",
    "            file_list = glob.glob(folder_path + '/*' + file_type)\n",
    "        \n",
    "        \n",
    "        #test this - check that filenames are returned as a list\n",
    "        return objects_from_filename_list(file_list, json_from_file=json_from_file)\n",
    "        \n",
    "    #include if needed\n",
    "    #@staticmethod\n",
    "    #def objects_from_file_pointer_list(file_pointer_list):\n",
    "    #    pass\n",
    "        # move stuff from objects_from_filename_list here and point that function here.\n",
    "    \n",
    "\n",
    "class RinoRequests(object):\n",
    "    @classmethod\n",
    "    def GET(cls, uri, **kw):\n",
    "        return cls.execute(uri, 'GET', **kw)\n",
    "\n",
    "    @classmethod\n",
    "    def POST(cls, uri, **kw):\n",
    "        return cls.execute(uri, 'POST', **kw)\n",
    "\n",
    "    @classmethod\n",
    "    def execute(cls, uri, http_verb, extra_headers=None, _file=None, _json=None, _data=None, _stream = False, **kw):\n",
    "        url = API_ROOT + uri\n",
    "        headers = {\n",
    "        'Authorization': authenticate(),\n",
    "        'X-Requested-With': 'XMLHttpRequest'\n",
    "        }\n",
    "        if http_verb == 'GET':\n",
    "            r = requests.get(url, json=_json, headers=headers, stream = _stream)\n",
    "        elif http_verb == 'POST':\n",
    "            r = requests.post(url, json=_json, files=_file, data=_data, headers=headers)\n",
    "        return r\n",
    "\n",
    "\n",
    "class Object(RinoRequests):\n",
    "    # set so that kwargs can be used to set variables.\n",
    "    def __init__(self, metadata = {}, file=None, parent = None, tags = None, id=None, __recieved_metadata__ = {}, use_local_metadata=False,  **kwargs):\n",
    "        self.file = file\n",
    "        self.parent = parent\n",
    "        self.tags = tags\n",
    "        self.id = id\n",
    "        self.metadata = metadata\n",
    "        self.__recieved_metadata__ = __recieved_metadata__\n",
    "        self.__dict__.update(metadata)\n",
    "        self.__dict__.update(kwargs.pop('Obj_from_dict', ''))\n",
    "        for name, value in kwargs.items():\n",
    "            self.__dict__[name] = value\n",
    "        if use_local_metadata==True:\n",
    "            try:\n",
    "                self.get_from_json_local(self.file.name + '.json')\n",
    "            except:\n",
    "                pass\n",
    "        self.__dict__.pop('use_local_metadata', '')\n",
    "\n",
    "    def add(self, params):\n",
    "        self.metadata.update(params)\n",
    "        self.__dict__.update(metadata)\n",
    "    \n",
    "    def upload(self):\n",
    "        self._prep_metadata_for_sending()\n",
    "        response = self.__class__.POST(URI['upload'], _data = {'json': json.dumps(self.metadata)}, _file = {'file': self.file})\n",
    "        self._process_returned_metadata(response)\n",
    "               \n",
    "    def get(self):\n",
    "        response = self.__class__.POST(URI['get'], _data = {'id': self.id})\n",
    "        self._process_returned_metadata(response)\n",
    "\n",
    "    def update(self):\n",
    "        self._prep_metadata_for_sending()\n",
    "        uri = 'files/update_metadata/'\n",
    "        response = self.__class__.POST(URI['update'], _data = self.metadata)\n",
    "        self._process_returned_metadata(response)\n",
    " \n",
    "    def download(self, newname = None):\n",
    "        local_filename = self._extract_name(newname)\n",
    "        response = self.__class__.GET(URI['download'] + str(self.id), _stream=True)\n",
    "        with open(local_filename, 'wb') as f:\n",
    "            for chunk in response.iter_content(chunk_size=1024):\n",
    "                if chunk:\n",
    "                    f.write(chunk)\n",
    "        return local_filename\n",
    "    \n",
    "    # Local saving and loading\n",
    "    def save_local(self, newname = None):\n",
    "        contents = self.file.read()\n",
    "        localfile = open(self._extract_name(newname), \"wb\")\n",
    "        localfile.write(contents)\n",
    "        localfile.close()\n",
    "        \n",
    "    def save_json_local(self, newname = None):\n",
    "        self._prep_metadata_for_sending()\n",
    "        _local_saving_dict = copy.deepcopy(self.__dict__)\n",
    "        _local_saving_dict.pop('file')\n",
    "        jsonfile = open(self._extract_name(newname) + '.json', 'w')\n",
    "        jsonfile.write(json.dumps(_local_saving_dict))\n",
    "        jsonfile.close()\n",
    "        \n",
    "    def get_from_json_local(self, jsonfile):\n",
    "        jf = open(jsonfile, 'r')\n",
    "        jsondata=jf.read()\n",
    "        self.__recieved_metadata__.update(json_loads_byteified(jsondata))\n",
    "        self.__dict__.update(self.__recieved_metadata__)\n",
    "        jf.close()\n",
    "    \n",
    "    # -----------------------------------------------------\n",
    "    def _prep_metadata_for_sending(self):\n",
    "        self.metadata.update(self.__dict__)\n",
    "        self.metadata.pop('metadata')\n",
    "        for key in self.__recieved_metadata__:\n",
    "            try:\n",
    "                self.metadata.pop(key)\n",
    "            except:\n",
    "                pass\n",
    "        try:\n",
    "            self.metadata.pop('file')\n",
    "        except:\n",
    "            pass\n",
    "        try:\n",
    "            self.metadata.pop('__recieved_metadata__')\n",
    "        except:\n",
    "            pass\n",
    "        \n",
    "    def _process_returned_metadata(self, response):\n",
    "        self.__recieved_metadata__.update(json_loads_byteified(response._content))\n",
    "        self.__dict__.update(self.__recieved_metadata__)\n",
    "        \n",
    "    def _extract_name(self, newname = None):\n",
    "        try:\n",
    "            if newname is not None:\n",
    "                local_file_name = newname\n",
    "            elif 'name' in vars():\n",
    "                local_file_name = self.name\n",
    "            else:\n",
    "                local_file_name = self.file.name\n",
    "            return local_file_name \n",
    "        except:\n",
    "            self.get()\n",
    "            return self.name\n",
    "\n",
    "class Queryset(RinoRequests):\n",
    "\n",
    "    def __init__(self, dictionary = {}, results = {'results' : 'The query method has not yet been called.'}):\n",
    "        self.dictionary = dictionary\n",
    "        self.results = results\n",
    "\n",
    "    OPERATORS = [\n",
    "        'lt', 'lte', 'gt', 'gte', 'ne', 'in', 'nin', 'exists', 'or' \n",
    "    ]\n",
    "\n",
    "    @classmethod\n",
    "    def extract_filter_operator(cls, parameter):\n",
    "        for op in cls.OPERATORS:\n",
    "            underscored = '__%s' % op\n",
    "            if parameter.endswith(underscored):\n",
    "                return parameter[:-len(underscored)], op\n",
    "        return parameter, None\n",
    "\n",
    "    def filter(self, **kw):\n",
    "        for name, value in kw.items():\n",
    "            attr, operator = Queryset.extract_filter_operator(name)\n",
    "            if operator is None:\n",
    "                self.dictionary[attr] = value\n",
    "            elif operator is 'or':\n",
    "                option_list = []\n",
    "                for option in value:\n",
    "                    option_list.append({attr : option})\n",
    "                self.dictionary['$' + operator] = option_list\n",
    "            else:\n",
    "                if attr in self.dictionary:\n",
    "                    self.dictionary[attr]['$'+ operator] = value\n",
    "                else:\n",
    "                    self.dictionary[attr] = {'$'+ operator : value}      \n",
    "        return self\n",
    "\n",
    "    def query(self):\n",
    "         response = self.__class__.POST(URI['query'], _json = {'query' : self.dictionary})        \n",
    "         reply = json_loads_byteified(response._content)\n",
    "         self.results = []\n",
    "         for obj in reply['result']:\n",
    "            self.results.append(Object(Obj_from_dict=obj)) \n",
    "         return self.results"
   ]
  },
  {
   "cell_type": "code",
   "execution_count": 10,
   "metadata": {
    "collapsed": false
   },
   "outputs": [
    {
     "data": {
      "text/plain": [
       "'Token 4db774dcfa4f0985591e3571d89f1062e083e638'"
      ]
     },
     "execution_count": 10,
     "metadata": {},
     "output_type": "execute_result"
    }
   ],
   "source": [
    "authenticate('4db774dcfa4f0985591e3571d89f1062e083e638')"
   ]
  },
  {
   "cell_type": "code",
   "execution_count": 161,
   "metadata": {
    "collapsed": true
   },
   "outputs": [],
   "source": [
    "obj=Object(file = open(\"testcsv.txt\", \"rb\"))"
   ]
  },
  {
   "cell_type": "code",
   "execution_count": 118,
   "metadata": {
    "collapsed": false
   },
   "outputs": [
    {
     "name": "stdout",
     "output_type": "stream",
     "text": [
      "tester.txt\n",
      "<type 'str'>\n",
      "newname\n"
     ]
    }
   ],
   "source": [
    "obj.save_local('tester.txt')"
   ]
  },
  {
   "cell_type": "code",
   "execution_count": 162,
   "metadata": {
    "collapsed": false
   },
   "outputs": [
    {
     "data": {
      "text/plain": [
       "{'file': <open file 'testcsv.txt', mode 'rb' at 0x105e20c00>,\n",
       " 'id': None,\n",
       " 'metadata': {'id': None, 'parent': None, 'tags': None},\n",
       " 'parent': None,\n",
       " 'tags': None}"
      ]
     },
     "execution_count": 162,
     "metadata": {},
     "output_type": "execute_result"
    }
   ],
   "source": [
    "vars(obj)"
   ]
  },
  {
   "cell_type": "code",
   "execution_count": 163,
   "metadata": {
    "collapsed": true
   },
   "outputs": [],
   "source": [
    "obj.a=66"
   ]
  },
  {
   "cell_type": "code",
   "execution_count": 164,
   "metadata": {
    "collapsed": false
   },
   "outputs": [],
   "source": [
    "obj.upload()"
   ]
  },
  {
   "cell_type": "code",
   "execution_count": 165,
   "metadata": {
    "collapsed": false
   },
   "outputs": [
    {
     "data": {
      "text/plain": [
       "{'a': 66,\n",
       " 'created_on': '2016-03-24T00:17:07.747699Z',\n",
       " 'created_on_str': 'just now',\n",
       " 'file': <open file 'testcsv.txt', mode 'rb' at 0x105e20c00>,\n",
       " 'format_string': None,\n",
       " 'id': 273,\n",
       " 'metadata': {},\n",
       " 'name': 'testcsv(21).txt',\n",
       " 'notes': None,\n",
       " 'owner': 'Jamie',\n",
       " 'parent': None,\n",
       " 'project': 5,\n",
       " 'project_name': 'eoinisthebest',\n",
       " 'share_code': None,\n",
       " 'shared': False,\n",
       " 'size': 12361,\n",
       " 'size_str': '12.4 kB',\n",
       " 'tags': None,\n",
       " 'type': 'file',\n",
       " 'updated_on': '2016-03-24T00:17:07.747736Z',\n",
       " 'updated_on_str': 'just now'}"
      ]
     },
     "execution_count": 165,
     "metadata": {},
     "output_type": "execute_result"
    }
   ],
   "source": [
    "vars(obj)"
   ]
  },
  {
   "cell_type": "code",
   "execution_count": 224,
   "metadata": {
    "collapsed": false
   },
   "outputs": [
    {
     "name": "stdout",
     "output_type": "stream",
     "text": [
      "processing\n",
      "Created <__main__.Foo object at 0x105f4c1d0>\n",
      "frobbing 2\n"
     ]
    }
   ],
   "source": [
    "class AssignableSetattr(type):\n",
    "    def __new__(mcls, name, bases, attrs):\n",
    "        def __setattr__(self, attr, value):\n",
    "            object.__setattr__(self, attr, value)\n",
    "\n",
    "        init_attrs = dict(attrs)\n",
    "        init_attrs['__setattr__'] = __setattr__\n",
    "\n",
    "        init_cls = super(AssignableSetattr, mcls).__new__(mcls, name, bases, init_attrs)\n",
    "\n",
    "        real_cls = super(AssignableSetattr, mcls).__new__(mcls, name, (init_cls,), attrs)\n",
    "        init_cls.__real_cls = real_cls\n",
    "\n",
    "        return init_cls\n",
    "\n",
    "    def __call__(cls, *args, **kwargs):\n",
    "        self = super(AssignableSetattr, cls).__call__(*args, **kwargs)\n",
    "        print \"Created\", self\n",
    "        real_cls = cls.__real_cls\n",
    "        self.__class__ = real_cls\n",
    "        return self\n",
    "\n",
    "\n",
    "class Foo(object):\n",
    "    __metaclass__ = AssignableSetattr\n",
    "\n",
    "    def __init__(self, a, b):\n",
    "        self.a = a\n",
    "        self.b = b\n",
    "        for key, value in process(a).items():\n",
    "            setattr(self, key, value)\n",
    "\n",
    "    def __setattr__(self, attr, value):\n",
    "        frob(self.b)\n",
    "        super(Foo, self).__setattr__(attr, value)\n",
    "\n",
    "\n",
    "def process(a):\n",
    "    print \"processing\"\n",
    "    return {'c': 3 * a}\n",
    "\n",
    "\n",
    "def frob(x):\n",
    "    print \"frobbing\", x\n",
    "\n",
    "\n",
    "myfoo = Foo(1, 2)\n",
    "myfoo.d = myfoo.c + 1"
   ]
  },
  {
   "cell_type": "code",
   "execution_count": 225,
   "metadata": {
    "collapsed": false
   },
   "outputs": [
    {
     "data": {
      "text/plain": [
       "{'a': 1, 'b': 2, 'c': 3, 'd': 4}"
      ]
     },
     "execution_count": 225,
     "metadata": {},
     "output_type": "execute_result"
    }
   ],
   "source": [
    "vars(myfoo)"
   ]
  },
  {
   "cell_type": "code",
   "execution_count": 211,
   "metadata": {
    "collapsed": false
   },
   "outputs": [
    {
     "data": {
      "text/plain": [
       "6"
      ]
     },
     "execution_count": 211,
     "metadata": {},
     "output_type": "execute_result"
    }
   ],
   "source": [
    "a.hello"
   ]
  },
  {
   "cell_type": "code",
   "execution_count": 232,
   "metadata": {
    "collapsed": true
   },
   "outputs": [],
   "source": [
    "aaaa={'a':4, 'b':5}"
   ]
  },
  {
   "cell_type": "code",
   "execution_count": 230,
   "metadata": {
    "collapsed": false
   },
   "outputs": [
    {
     "data": {
      "text/plain": [
       "4"
      ]
     },
     "execution_count": 230,
     "metadata": {},
     "output_type": "execute_result"
    }
   ],
   "source": [
    "aaaa.pop('a')"
   ]
  },
  {
   "cell_type": "code",
   "execution_count": 231,
   "metadata": {
    "collapsed": false
   },
   "outputs": [
    {
     "data": {
      "text/plain": [
       "{'b': 5}"
      ]
     },
     "execution_count": 231,
     "metadata": {},
     "output_type": "execute_result"
    }
   ],
   "source": [
    "aaaa"
   ]
  },
  {
   "cell_type": "code",
   "execution_count": 234,
   "metadata": {
    "collapsed": false
   },
   "outputs": [
    {
     "name": "stdout",
     "output_type": "stream",
     "text": [
      "a\n",
      "b\n"
     ]
    }
   ],
   "source": [
    "for key in aaaa:\n",
    "    print key"
   ]
  },
  {
   "cell_type": "code",
   "execution_count": 3,
   "metadata": {
    "collapsed": true
   },
   "outputs": [],
   "source": [
    "qobj = Queryset()"
   ]
  },
  {
   "cell_type": "code",
   "execution_count": 4,
   "metadata": {
    "collapsed": false
   },
   "outputs": [
    {
     "data": {
      "text/plain": [
       "<__main__.Queryset at 0x107efc110>"
      ]
     },
     "execution_count": 4,
     "metadata": {},
     "output_type": "execute_result"
    }
   ],
   "source": [
    "qobj.filter(key1__gte = 0)"
   ]
  },
  {
   "cell_type": "code",
   "execution_count": 6,
   "metadata": {
    "collapsed": false
   },
   "outputs": [],
   "source": [
    "a=qobj.query()"
   ]
  },
  {
   "cell_type": "code",
   "execution_count": 8,
   "metadata": {
    "collapsed": false
   },
   "outputs": [],
   "source": [
    "def batch_download(obj_list):\n",
    "    for obj in obj_list:\n",
    "        obj.download()"
   ]
  },
  {
   "cell_type": "code",
   "execution_count": 11,
   "metadata": {
    "collapsed": false
   },
   "outputs": [
    {
     "ename": "TypeError",
     "evalue": "'Object' object is not iterable",
     "output_type": "error",
     "traceback": [
      "\u001b[0;31m---------------------------------------------------------------------------\u001b[0m",
      "\u001b[0;31mTypeError\u001b[0m                                 Traceback (most recent call last)",
      "\u001b[0;32m<ipython-input-11-f9c2b7c410f9>\u001b[0m in \u001b[0;36m<module>\u001b[0;34m()\u001b[0m\n\u001b[0;32m----> 1\u001b[0;31m \u001b[0mbatch_download\u001b[0m\u001b[0;34m(\u001b[0m\u001b[0ma\u001b[0m\u001b[0;34m[\u001b[0m\u001b[0;36m0\u001b[0m\u001b[0;34m]\u001b[0m\u001b[0;34m)\u001b[0m\u001b[0;34m\u001b[0m\u001b[0m\n\u001b[0m",
      "\u001b[0;32m<ipython-input-8-597267508dbd>\u001b[0m in \u001b[0;36mbatch_download\u001b[0;34m(obj_list)\u001b[0m\n\u001b[1;32m      1\u001b[0m \u001b[0;32mdef\u001b[0m \u001b[0mbatch_download\u001b[0m\u001b[0;34m(\u001b[0m\u001b[0mobj_list\u001b[0m\u001b[0;34m)\u001b[0m\u001b[0;34m:\u001b[0m\u001b[0;34m\u001b[0m\u001b[0m\n\u001b[0;32m----> 2\u001b[0;31m     \u001b[0;32mfor\u001b[0m \u001b[0mobj\u001b[0m \u001b[0;32min\u001b[0m \u001b[0mobj_list\u001b[0m\u001b[0;34m:\u001b[0m\u001b[0;34m\u001b[0m\u001b[0m\n\u001b[0m\u001b[1;32m      3\u001b[0m         \u001b[0mobj\u001b[0m\u001b[0;34m.\u001b[0m\u001b[0mdownload\u001b[0m\u001b[0;34m(\u001b[0m\u001b[0;34m)\u001b[0m\u001b[0;34m\u001b[0m\u001b[0m\n",
      "\u001b[0;31mTypeError\u001b[0m: 'Object' object is not iterable"
     ]
    }
   ],
   "source": [
    "batch_download(a[0])"
   ]
  },
  {
   "cell_type": "code",
   "execution_count": 18,
   "metadata": {
    "collapsed": false
   },
   "outputs": [],
   "source": [
    "class woo:\n",
    "    @staticmethod\n",
    "    def a():\n",
    "        print 1"
   ]
  },
  {
   "cell_type": "code",
   "execution_count": 19,
   "metadata": {
    "collapsed": false
   },
   "outputs": [
    {
     "name": "stdout",
     "output_type": "stream",
     "text": [
      "1\n"
     ]
    }
   ],
   "source": [
    "woo.a()"
   ]
  },
  {
   "cell_type": "code",
   "execution_count": 16,
   "metadata": {
    "collapsed": false
   },
   "outputs": [],
   "source": [
    "obj = Object(id=273)"
   ]
  },
  {
   "cell_type": "raw",
   "metadata": {},
   "source": []
  },
  {
   "cell_type": "code",
   "execution_count": 18,
   "metadata": {
    "collapsed": false
   },
   "outputs": [],
   "source": [
    "obj.get()"
   ]
  },
  {
   "cell_type": "code",
   "execution_count": 19,
   "metadata": {
    "collapsed": true
   },
   "outputs": [],
   "source": [
    "obj.save_json_local()"
   ]
  },
  {
   "cell_type": "code",
   "execution_count": 20,
   "metadata": {
    "collapsed": false
   },
   "outputs": [
    {
     "data": {
      "text/plain": [
       "'testcsv(21).txt'"
      ]
     },
     "execution_count": 20,
     "metadata": {},
     "output_type": "execute_result"
    }
   ],
   "source": [
    "obj.download()"
   ]
  },
  {
   "cell_type": "code",
   "execution_count": 23,
   "metadata": {
    "collapsed": false
   },
   "outputs": [],
   "source": [
    "aha=batch.objects_from_filename_list(['testcsv(21).txt'])"
   ]
  },
  {
   "cell_type": "code",
   "execution_count": 29,
   "metadata": {
    "collapsed": false
   },
   "outputs": [
    {
     "ename": "AttributeError",
     "evalue": "'list' object has no attribute 'name'",
     "output_type": "error",
     "traceback": [
      "\u001b[0;31m---------------------------------------------------------------------------\u001b[0m",
      "\u001b[0;31mAttributeError\u001b[0m                            Traceback (most recent call last)",
      "\u001b[0;32m<ipython-input-29-2d1fa2c154f8>\u001b[0m in \u001b[0;36m<module>\u001b[0;34m()\u001b[0m\n\u001b[0;32m----> 1\u001b[0;31m \u001b[0maha\u001b[0m\u001b[0;34m.\u001b[0m\u001b[0mname\u001b[0m\u001b[0;34m\u001b[0m\u001b[0m\n\u001b[0m",
      "\u001b[0;31mAttributeError\u001b[0m: 'list' object has no attribute 'name'"
     ]
    }
   ],
   "source": [
    "    def objects_from_filename_list(file_list, json_from_file=True):\n",
    "        #test if it works for single files\n",
    "        obj_list = []\n",
    "        for filename in file_list:\n",
    "            obj_list.append(Object(file=open(filename, \"rb\")))\n",
    "        if json_from_file == True:\n",
    "            for obj in obj_list:\n",
    "                try:\n",
    "                    obj.get_from_json_local(obj.file.name + '.json')\n",
    "                except:\n",
    "                    pass\n",
    "        return obj_list"
   ]
  },
  {
   "cell_type": "code",
   "execution_count": 32,
   "metadata": {
    "collapsed": false
   },
   "outputs": [
    {
     "name": "stdout",
     "output_type": "stream",
     "text": [
      "testcsv(21).txt\n",
      "[<__main__.Object object at 0x1072cb290>]\n"
     ]
    }
   ],
   "source": [
    "obj_list = []\n",
    "file_list=['testcsv(21).txt']\n",
    "json_from_file=True\n",
    "for filename in file_list:\n",
    "    print filename\n",
    "    obj_list.append(Object(file=open(filename, \"rb\")))\n",
    "    print obj_list"
   ]
  },
  {
   "cell_type": "code",
   "execution_count": 34,
   "metadata": {
    "collapsed": false
   },
   "outputs": [],
   "source": [
    "aha=aha[0]"
   ]
  },
  {
   "cell_type": "code",
   "execution_count": 35,
   "metadata": {
    "collapsed": false
   },
   "outputs": [
    {
     "data": {
      "text/plain": [
       "{'__recieved_metadata__': {'created_on': '2016-03-24T00:17:07.747699Z',\n",
       "  'created_on_str': '5 days ago',\n",
       "  'format_string': None,\n",
       "  'id': 273,\n",
       "  'metadata': {},\n",
       "  'name': 'testcsv(21).txt',\n",
       "  'notes': None,\n",
       "  'owner': 'Jamie',\n",
       "  'parent': None,\n",
       "  'project': 5,\n",
       "  'project_name': 'eoinisthebest',\n",
       "  'share_code': None,\n",
       "  'shared': False,\n",
       "  'size': 12361,\n",
       "  'size_str': '12.4 kB',\n",
       "  'tags': None,\n",
       "  'type': 'file',\n",
       "  'updated_on': '2016-03-24T00:17:07.747736Z',\n",
       "  'updated_on_str': '5 days ago'},\n",
       " 'created_on': '2016-03-24T00:17:07.747699Z',\n",
       " 'created_on_str': '5 days ago',\n",
       " 'file': <open file 'testcsv(21).txt', mode 'rb' at 0x1071ebe40>,\n",
       " 'format_string': None,\n",
       " 'id': 273,\n",
       " 'metadata': {},\n",
       " 'name': 'testcsv(21).txt',\n",
       " 'notes': None,\n",
       " 'owner': 'Jamie',\n",
       " 'parent': None,\n",
       " 'project': 5,\n",
       " 'project_name': 'eoinisthebest',\n",
       " 'share_code': None,\n",
       " 'shared': False,\n",
       " 'size': 12361,\n",
       " 'size_str': '12.4 kB',\n",
       " 'tags': None,\n",
       " 'type': 'file',\n",
       " 'updated_on': '2016-03-24T00:17:07.747736Z',\n",
       " 'updated_on_str': '5 days ago'}"
      ]
     },
     "execution_count": 35,
     "metadata": {},
     "output_type": "execute_result"
    }
   ],
   "source": [
    "vars(aha)"
   ]
  },
  {
   "cell_type": "code",
   "execution_count": 42,
   "metadata": {
    "collapsed": false
   },
   "outputs": [
    {
     "data": {
      "text/plain": [
       "['/Users/jameslee/Dropbox/RINO/rinocloudpy/__init__.py',\n",
       " '/Users/jameslee/Dropbox/RINO/rinocloudpy/rinocloudpy.py',\n",
       " '/Users/jameslee/Dropbox/RINO/rinocloudpy/scratchpad.ipynb',\n",
       " '/Users/jameslee/Dropbox/RINO/rinocloudpy/testcsv(21).txt',\n",
       " '/Users/jameslee/Dropbox/RINO/rinocloudpy/testcsv(21).txt.json',\n",
       " '/Users/jameslee/Dropbox/RINO/rinocloudpy/testcsv.txt']"
      ]
     },
     "execution_count": 42,
     "metadata": {},
     "output_type": "execute_result"
    }
   ],
   "source": [
    "glob.glob('/Users/jameslee/Dropbox/RINO/rinocloudpy/*')"
   ]
  },
  {
   "cell_type": "code",
   "execution_count": 43,
   "metadata": {
    "collapsed": true
   },
   "outputs": [],
   "source": [
    "f = open('/Users/jameslee/Dropbox/RINO/rinocloudpy/testcsv.txt', 'rb')"
   ]
  },
  {
   "cell_type": "code",
   "execution_count": 44,
   "metadata": {
    "collapsed": false
   },
   "outputs": [
    {
     "data": {
      "text/plain": [
       "'/Users/jameslee/Dropbox/RINO/rinocloudpy/testcsv.txt'"
      ]
     },
     "execution_count": 44,
     "metadata": {},
     "output_type": "execute_result"
    }
   ],
   "source": [
    "f.name"
   ]
  },
  {
   "cell_type": "code",
   "execution_count": 52,
   "metadata": {
    "collapsed": false
   },
   "outputs": [],
   "source": [
    "aa = Object(hello=77)"
   ]
  },
  {
   "cell_type": "code",
   "execution_count": 53,
   "metadata": {
    "collapsed": false
   },
   "outputs": [
    {
     "data": {
      "text/plain": [
       "{'__recieved_metadata__': {},\n",
       " 'file': None,\n",
       " 'hello': 77,\n",
       " 'id': None,\n",
       " 'metadata': {},\n",
       " 'parent': None,\n",
       " 'tags': None}"
      ]
     },
     "execution_count": 53,
     "metadata": {},
     "output_type": "execute_result"
    }
   ],
   "source": [
    "vars(aa)"
   ]
  },
  {
   "cell_type": "code",
   "execution_count": null,
   "metadata": {
    "collapsed": true
   },
   "outputs": [],
   "source": []
  }
 ],
 "metadata": {
  "kernelspec": {
   "display_name": "Python 2",
   "language": "python",
   "name": "python2"
  },
  "language_info": {
   "codemirror_mode": {
    "name": "ipython",
    "version": 2
   },
   "file_extension": ".py",
   "mimetype": "text/x-python",
   "name": "python",
   "nbconvert_exporter": "python",
   "pygments_lexer": "ipython2",
   "version": "2.7.10"
  }
 },
 "nbformat": 4,
 "nbformat_minor": 0
}
