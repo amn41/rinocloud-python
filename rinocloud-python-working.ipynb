{
 "cells": [
  {
   "cell_type": "code",
   "execution_count": 10,
   "metadata": {
    "collapsed": true
   },
   "outputs": [],
   "source": [
    "import requests\n",
    "import json"
   ]
  },
  {
   "cell_type": "code",
   "execution_count": 144,
   "metadata": {
    "collapsed": false
   },
   "outputs": [
    {
     "name": "stdout",
     "output_type": "stream",
     "text": [
      "\n",
      "Creating a folder\n",
      "Result was successful:  True\n",
      "{\n",
      "    \"project_name\": \"eoinisthebest\", \n",
      "    \"name\": \"testcsv(5).txt\", \n",
      "    \"parent\": null, \n",
      "    \"size_str\": \"12.4 kB\", \n",
      "    \"shared\": false, \n",
      "    \"share_code\": null, \n",
      "    \"notes\": null, \n",
      "    \"tags\": null, \n",
      "    \"format_string\": null, \n",
      "    \"project\": 5, \n",
      "    \"created_on\": \"2016-02-29T23:26:37.812094Z\", \n",
      "    \"updated_on\": \"2016-02-29T23:26:37.812133Z\", \n",
      "    \"owner\": \"Jamie\", \n",
      "    \"updated_on_str\": \"just now\", \n",
      "    \"size\": 12361, \n",
      "    \"type\": \"file\", \n",
      "    \"id\": 256, \n",
      "    \"created_on_str\": \"just now\", \n",
      "    \"metadata\": {}\n",
      "}\n"
     ]
    }
   ],
   "source": [
    "headers = {\n",
    "    'Authorization': 'Token %s' %'4db774dcfa4f0985591e3571d89f1062e083e638',\n",
    "    'X-Requested-With': 'XMLHttpRequest'\n",
    "}\n",
    "file = {'file': open('testcsv.txt', 'rb')}\n",
    "payload = {'parent': None}\n",
    "\n",
    "print \"\\nCreating a folder\"\n",
    "r1 = requests.post(\"http://staging.rinocloud.com/api/1/files/upload_multipart/\", files=file ,data= {'json': json.dumps(payload)}, headers=headers)\n",
    "\n",
    "print \"Result was successful: \", r1.status_code == 201\n",
    "print json.dumps(r1.json(), indent=4)"
   ]
  },
  {
   "cell_type": "code",
   "execution_count": 1,
   "metadata": {
    "collapsed": false
   },
   "outputs": [],
   "source": [
    "def authenticate(*args):\n",
    "    if len(args)>1:\n",
    "        raise Exception('authenticate takes only 0 or 1 input arguments.') \n",
    "  \n",
    "    global rinocloud_auth_token\n",
    "    if len(args) == 1:\n",
    "        if isinstance(args[0], str):\n",
    "            rinocloud_auth_token = args[0]\n",
    "        else:\n",
    "            raise Exception('Your API token should be entered as a string.') \n",
    "    try:\n",
    "        return 'Token ' + rinocloud_auth_token\n",
    "    except:\n",
    "        raise Exception('Set your API token using the authenticate function.') \n",
    "        \n",
    "\n",
    "\n",
    "         \n",
    "\n"
   ]
  },
  {
   "cell_type": "code",
   "execution_count": 3,
   "metadata": {
    "collapsed": false
   },
   "outputs": [
    {
     "data": {
      "text/plain": [
       "'Token 5647464g474g'"
      ]
     },
     "execution_count": 3,
     "metadata": {},
     "output_type": "execute_result"
    }
   ],
   "source": [
    "authenticate('5647464g474g')"
   ]
  },
  {
   "cell_type": "code",
   "execution_count": 40,
   "metadata": {
    "collapsed": false
   },
   "outputs": [
    {
     "name": "stdout",
     "output_type": "stream",
     "text": [
      "9\n"
     ]
    }
   ],
   "source": [
    "print \"9\""
   ]
  },
  {
   "cell_type": "code",
   "execution_count": 4,
   "metadata": {
    "collapsed": false
   },
   "outputs": [],
   "source": [
    "globals().clear()"
   ]
  },
  {
   "cell_type": "code",
   "execution_count": 5,
   "metadata": {
    "collapsed": false
   },
   "outputs": [
    {
     "ename": "NameError",
     "evalue": "name 'rinocloud_auth_token' is not defined",
     "output_type": "error",
     "traceback": [
      "\u001b[0;31m---------------------------------------------------------------------------\u001b[0m",
      "\u001b[0;31mNameError\u001b[0m                                 Traceback (most recent call last)",
      "\u001b[0;32m<ipython-input-5-6d832ac76c52>\u001b[0m in \u001b[0;36m<module>\u001b[0;34m()\u001b[0m\n\u001b[0;32m----> 1\u001b[0;31m \u001b[0mrinocloud_auth_token\u001b[0m\u001b[0;34m\u001b[0m\u001b[0m\n\u001b[0m",
      "\u001b[0;31mNameError\u001b[0m: name 'rinocloud_auth_token' is not defined"
     ]
    }
   ],
   "source": [
    "rinocloud_auth_token"
   ]
  },
  {
   "cell_type": "code",
   "execution_count": 1,
   "metadata": {
    "collapsed": false
   },
   "outputs": [
    {
     "ename": "ImportError",
     "evalue": "No module named rinocloudpy",
     "output_type": "error",
     "traceback": [
      "\u001b[0;31m---------------------------------------------------------------------------\u001b[0m",
      "\u001b[0;31mImportError\u001b[0m                               Traceback (most recent call last)",
      "\u001b[0;32m<ipython-input-1-17367fd39952>\u001b[0m in \u001b[0;36m<module>\u001b[0;34m()\u001b[0m\n\u001b[0;32m----> 1\u001b[0;31m \u001b[0;32mfrom\u001b[0m \u001b[0mrinocloudpy\u001b[0m \u001b[0;32mimport\u001b[0m \u001b[0mrinocloud\u001b[0m\u001b[0;34m\u001b[0m\u001b[0m\n\u001b[0m",
      "\u001b[0;31mImportError\u001b[0m: No module named rinocloudpy"
     ]
    }
   ],
   "source": [
    "from rinocloudpy import rinocloud"
   ]
  },
  {
   "cell_type": "code",
   "execution_count": 1,
   "metadata": {
    "collapsed": false
   },
   "outputs": [],
   "source": [
    "import rinocloud"
   ]
  },
  {
   "cell_type": "code",
   "execution_count": 2,
   "metadata": {
    "collapsed": false
   },
   "outputs": [
    {
     "data": {
      "text/plain": [
       "'Token 4db774dcfa4f0985591e3571d89f1062e083e638'"
      ]
     },
     "execution_count": 2,
     "metadata": {},
     "output_type": "execute_result"
    }
   ],
   "source": [
    "rinocloud.authenticate('4db774dcfa4f0985591e3571d89f1062e083e638')"
   ]
  },
  {
   "cell_type": "code",
   "execution_count": 5,
   "metadata": {
    "collapsed": false
   },
   "outputs": [
    {
     "data": {
      "text/plain": [
       "'{\\n    \"status_code\": 400, \\n    \"errors\": {\\n        \"tags\": \"Expected a list of items but got type \\\\\"unicode\\\\\".\"\\n    }\\n}'"
      ]
     },
     "execution_count": 5,
     "metadata": {},
     "output_type": "execute_result"
    }
   ],
   "source": [
    "rinocloud.upload('testcsv.txt', metadata = {'tags': 'test'},)"
   ]
  },
  {
   "cell_type": "code",
   "execution_count": 13,
   "metadata": {
    "collapsed": false
   },
   "outputs": [],
   "source": [
    "out=rinocloud.upload('testcsv.txt',     metadata = {\n",
    "      'sample': 6,\n",
    "      'tags': [\"math\", \"proof\", \"riemman\"]\n",
    "    })"
   ]
  },
  {
   "cell_type": "code",
   "execution_count": 11,
   "metadata": {
    "collapsed": false
   },
   "outputs": [
    {
     "name": "stdout",
     "output_type": "stream",
     "text": [
      "{\n",
      "    \"project_name\": \"eoinisthebest\", \n",
      "    \"name\": \"testcsv(1).txt\", \n",
      "    \"parent\": null, \n",
      "    \"size_str\": \"12.4 kB\", \n",
      "    \"shared\": false, \n",
      "    \"share_code\": null, \n",
      "    \"notes\": null, \n",
      "    \"tags\": [\n",
      "        \"math\", \n",
      "        \"proof\", \n",
      "        \"riemman\"\n",
      "    ], \n",
      "    \"format_string\": null, \n",
      "    \"project\": 5, \n",
      "    \"created_on\": \"2016-02-22T22:38:01.937019Z\", \n",
      "    \"updated_on\": \"2016-02-22T22:38:01.937048Z\", \n",
      "    \"owner\": \"Jamie\", \n",
      "    \"updated_on_str\": \"just now\", \n",
      "    \"size\": 12361, \n",
      "    \"type\": \"file\", \n",
      "    \"id\": 221, \n",
      "    \"created_on_str\": \"just now\", \n",
      "    \"metadata\": {\n",
      "        \"sample\": 6\n",
      "    }\n",
      "}\n"
     ]
    }
   ],
   "source": [
    "print out"
   ]
  },
  {
   "cell_type": "code",
   "execution_count": 6,
   "metadata": {
    "collapsed": false
   },
   "outputs": [
    {
     "name": "stdout",
     "output_type": "stream",
     "text": [
      "{\n",
      "    \"project_name\": \"eoinisthebest\", \n",
      "    \"name\": \"testcsv(5).txt\", \n",
      "    \"parent\": null, \n",
      "    \"size_str\": \"12.4 kB\", \n",
      "    \"shared\": false, \n",
      "    \"share_code\": null, \n",
      "    \"notes\": null, \n",
      "    \"tags\": null, \n",
      "    \"format_string\": null, \n",
      "    \"project\": 5, \n",
      "    \"created_on\": \"2016-02-22T21:11:59.055213Z\", \n",
      "    \"updated_on\": \"2016-02-22T21:11:59.055237Z\", \n",
      "    \"owner\": \"Jamie\", \n",
      "    \"updated_on_str\": \"just now\", \n",
      "    \"size\": 12361, \n",
      "    \"type\": \"file\", \n",
      "    \"id\": 218, \n",
      "    \"created_on_str\": \"just now\", \n",
      "    \"metadata\": {}\n",
      "}\n"
     ]
    }
   ],
   "source": [
    "print out"
   ]
  },
  {
   "cell_type": "code",
   "execution_count": 11,
   "metadata": {
    "collapsed": false
   },
   "outputs": [
    {
     "data": {
      "text/plain": [
       "str"
      ]
     },
     "execution_count": 11,
     "metadata": {},
     "output_type": "execute_result"
    }
   ],
   "source": [
    "type('hi')"
   ]
  },
  {
   "cell_type": "code",
   "execution_count": 40,
   "metadata": {
    "collapsed": false
   },
   "outputs": [],
   "source": [
    "metadata = {'name': 'empty1'}"
   ]
  },
  {
   "cell_type": "code",
   "execution_count": 58,
   "metadata": {
    "collapsed": false
   },
   "outputs": [],
   "source": [
    "  headers = {\n",
    "    'Authorization': rinocloud.authenticate(),\n",
    "    'X-Requested-With': 'XMLHttpRequest',\n",
    "    'Content-Type':'application/json',\n",
    "    }"
   ]
  },
  {
   "cell_type": "code",
   "execution_count": 20,
   "metadata": {
    "collapsed": false
   },
   "outputs": [],
   "source": [
    "metadata = {\n",
    "      'sample': 6,\n",
    "      'tags': [\"math\", \"proof\", \"riemman\"]\n",
    "    }"
   ]
  },
  {
   "cell_type": "code",
   "execution_count": 17,
   "metadata": {
    "collapsed": true
   },
   "outputs": [],
   "source": [
    "_data = {'file': open('testcsv.txt', 'rb')}"
   ]
  },
  {
   "cell_type": "code",
   "execution_count": 70,
   "metadata": {
    "collapsed": false
   },
   "outputs": [
    {
     "data": {
      "text/plain": [
       "<Response [500]>"
      ]
     },
     "execution_count": 70,
     "metadata": {},
     "output_type": "execute_result"
    }
   ],
   "source": [
    "import requests\n",
    "import json\n",
    "\n",
    "headers = {\n",
    "    'Authorization': rinocloud.authenticate(),\n",
    "    'X-Requested-With': 'XMLHttpRequest',\n",
    "    }\n",
    "\n",
    "metadata = {'name': 'empty1'}\n",
    "    \n",
    "r = requests.post('http://staging.rinocloud.com/api/1/files/create_empty/', data= {'json': json.dumps(metadata)}, headers = headers)\n",
    "#json.dumps(r.json(), indent=4)\n",
    "r"
   ]
  },
  {
   "cell_type": "code",
   "execution_count": 43,
   "metadata": {
    "collapsed": false
   },
   "outputs": [
    {
     "data": {
      "text/plain": [
       "'{\\n    \"project_name\": \"eoinisthebest\", \\n    \"name\": \"test5.txt\", \\n    \"parent\": null, \\n    \"size_str\": \"12.4 kB\", \\n    \"shared\": false, \\n    \"share_code\": null, \\n    \"notes\": null, \\n    \"tags\": null, \\n    \"format_string\": null, \\n    \"project\": 5, \\n    \"created_on\": \"2016-02-27T17:19:37.206060Z\", \\n    \"updated_on\": \"2016-02-27T17:19:37.206082Z\", \\n    \"owner\": \"Jamie\", \\n    \"updated_on_str\": \"just now\", \\n    \"size\": 12361, \\n    \"type\": \"file\", \\n    \"id\": 229, \\n    \"created_on_str\": \"just now\", \\n    \"metadata\": {}\\n}'"
      ]
     },
     "execution_count": 43,
     "metadata": {},
     "output_type": "execute_result"
    }
   ],
   "source": [
    "rinocloud.upload('testcsv.txt', newname = 'test5.txt')"
   ]
  },
  {
   "cell_type": "code",
   "execution_count": 47,
   "metadata": {
    "collapsed": false
   },
   "outputs": [
    {
     "data": {
      "text/plain": [
       "<Response [404]>"
      ]
     },
     "execution_count": 47,
     "metadata": {},
     "output_type": "execute_result"
    }
   ],
   "source": [
    "requests.post('http://staging.rinocloud.com/api/1/create_empty/', files = None, data = {'name': 'empty'}, headers = headers)"
   ]
  },
  {
   "cell_type": "code",
   "execution_count": 83,
   "metadata": {
    "collapsed": false
   },
   "outputs": [],
   "source": [
    "payload = {\n",
    "    \"id\":  230,}"
   ]
  },
  {
   "cell_type": "code",
   "execution_count": 84,
   "metadata": {
    "collapsed": false
   },
   "outputs": [
    {
     "data": {
      "text/plain": [
       "<Response [200]>"
      ]
     },
     "execution_count": 84,
     "metadata": {},
     "output_type": "execute_result"
    }
   ],
   "source": [
    "requests.post('http://staging.rinocloud.com/api/1/files/search/', params=payload ,headers = headers)"
   ]
  },
  {
   "cell_type": "code",
   "execution_count": 74,
   "metadata": {
    "collapsed": false
   },
   "outputs": [
    {
     "data": {
      "text/plain": [
       "<Response [400]>"
      ]
     },
     "execution_count": 74,
     "metadata": {},
     "output_type": "execute_result"
    }
   ],
   "source": [
    "r"
   ]
  },
  {
   "cell_type": "code",
   "execution_count": 102,
   "metadata": {
    "collapsed": true
   },
   "outputs": [],
   "source": [
    "  headers = {\n",
    "    'Authorization': rinocloud.authenticate(),\n",
    "    'X-Requested-With': 'XMLHttpRequest',\n",
    "    }\n",
    "metadata = {'name': 'empty1'}\n",
    "r = requests.post('http://staging.rinocloud.com/api/1/files/create_empty/', json=metadata, headers = headers)"
   ]
  },
  {
   "cell_type": "code",
   "execution_count": 106,
   "metadata": {
    "collapsed": false
   },
   "outputs": [
    {
     "name": "stdout",
     "output_type": "stream",
     "text": [
      "{\n",
      "    \"project_name\": \"eoinisthebest\", \n",
      "    \"name\": \"empty1\", \n",
      "    \"parent\": null, \n",
      "    \"size_str\": \"\", \n",
      "    \"shared\": false, \n",
      "    \"share_code\": null, \n",
      "    \"notes\": null, \n",
      "    \"tags\": null, \n",
      "    \"format_string\": null, \n",
      "    \"project\": 5, \n",
      "    \"created_on\": \"2016-02-28T15:08:23.169944Z\", \n",
      "    \"updated_on\": \"2016-02-28T15:08:23.169980Z\", \n",
      "    \"owner\": \"Jamie\", \n",
      "    \"updated_on_str\": \"just now\", \n",
      "    \"size\": 0, \n",
      "    \"type\": \"file\", \n",
      "    \"id\": 241, \n",
      "    \"created_on_str\": \"just now\", \n",
      "    \"metadata\": {}\n",
      "}\n"
     ]
    }
   ],
   "source": [
    "print json.dumps(r.json(), indent=4)"
   ]
  },
  {
   "cell_type": "code",
   "execution_count": 91,
   "metadata": {
    "collapsed": false
   },
   "outputs": [
    {
     "data": {
      "text/plain": [
       "'Token 4db774dcfa4f0985591e3571d89f1062e083e638'"
      ]
     },
     "execution_count": 91,
     "metadata": {},
     "output_type": "execute_result"
    }
   ],
   "source": [
    "rinocloud.authenticate()"
   ]
  },
  {
   "cell_type": "code",
   "execution_count": 100,
   "metadata": {
    "collapsed": false
   },
   "outputs": [],
   "source": [
    "import requests\n",
    "import json\n",
    "\n",
    "headers = {\n",
    "    'Authorization': rinocloud.authenticate()\n",
    "}\n",
    "\n",
    "metadata = {'name': 'empty1'}\n",
    "    \n",
    "r = requests.post('http://staging.rinocloud.com/api/1/files/create_empty/',files = None, json=metadata, headers = headers)"
   ]
  },
  {
   "cell_type": "code",
   "execution_count": 101,
   "metadata": {
    "collapsed": false
   },
   "outputs": [
    {
     "data": {
      "text/plain": [
       "<Response [201]>"
      ]
     },
     "execution_count": 101,
     "metadata": {},
     "output_type": "execute_result"
    }
   ],
   "source": [
    "r"
   ]
  },
  {
   "cell_type": "code",
   "execution_count": 120,
   "metadata": {
    "collapsed": false
   },
   "outputs": [
    {
     "name": "stdout",
     "output_type": "stream",
     "text": [
      "{\"error\":\"No queries specified.\"}\n"
     ]
    }
   ],
   "source": [
    "metadata = {\n",
    "    'query': {\n",
    "        'label1': {'$gt': 0}\n",
    "    }\n",
    "}\n",
    "    \n",
    "r = requests.post('http://staging.rinocloud.com/api/1/files/query/', json=metadata, headers=headers)\n",
    "\n",
    "print r.text"
   ]
  },
  {
   "cell_type": "code",
   "execution_count": 128,
   "metadata": {
    "collapsed": false
   },
   "outputs": [],
   "source": [
    "r = requests.post('http://staging.rinocloud.com/api/1/files/update_metadata/', json={'id': 246, 'speed': 69}, headers = headers)"
   ]
  },
  {
   "cell_type": "code",
   "execution_count": 129,
   "metadata": {
    "collapsed": false
   },
   "outputs": [
    {
     "name": "stdout",
     "output_type": "stream",
     "text": [
      "{\n",
      "    \"project_name\": \"eoinisthebest\", \n",
      "    \"name\": \"testcsv(1).txt\", \n",
      "    \"parent\": null, \n",
      "    \"size_str\": \"12.4 kB\", \n",
      "    \"shared\": false, \n",
      "    \"share_code\": null, \n",
      "    \"notes\": null, \n",
      "    \"tags\": null, \n",
      "    \"format_string\": null, \n",
      "    \"project\": 5, \n",
      "    \"created_on\": \"2016-02-29T21:53:37.169957Z\", \n",
      "    \"updated_on\": \"2016-02-29T22:01:21.553059Z\", \n",
      "    \"owner\": \"Jamie\", \n",
      "    \"updated_on_str\": \"just now\", \n",
      "    \"size\": 12361, \n",
      "    \"type\": \"file\", \n",
      "    \"id\": 246, \n",
      "    \"created_on_str\": \"7 minutes ago\", \n",
      "    \"metadata\": {\n",
      "        \"speed\": 69\n",
      "    }\n",
      "}\n"
     ]
    }
   ],
   "source": [
    "print json.dumps(r.json(), indent=4)"
   ]
  },
  {
   "cell_type": "code",
   "execution_count": 164,
   "metadata": {
    "collapsed": false
   },
   "outputs": [
    {
     "name": "stdout",
     "output_type": "stream",
     "text": [
      "{\n",
      "    \"project_name\": \"eoinisthebest\", \n",
      "    \"name\": \"testcsv(5).txt\", \n",
      "    \"parent\": null, \n",
      "    \"size_str\": \"12.4 kB\", \n",
      "    \"shared\": false, \n",
      "    \"share_code\": null, \n",
      "    \"notes\": null, \n",
      "    \"tags\": null, \n",
      "    \"format_string\": null, \n",
      "    \"project\": 5, \n",
      "    \"created_on\": \"2016-02-29T23:26:37.812094Z\", \n",
      "    \"updated_on\": \"2016-02-29T23:26:37.812133Z\", \n",
      "    \"owner\": \"Jamie\", \n",
      "    \"updated_on_str\": \"just now\", \n",
      "    \"size\": 12361, \n",
      "    \"type\": \"file\", \n",
      "    \"id\": 256, \n",
      "    \"created_on_str\": \"just now\", \n",
      "    \"metadata\": {}\n",
      "}\n"
     ]
    }
   ],
   "source": [
    "payload = {'id': 245}\n",
    "headers = {\n",
    "    'Authorization': 'Token %s' %'4db774dcfa4f0985591e3571d89f1062e083e638',\n",
    "    'X-Requested-With': 'XMLHttpRequest'\n",
    "}\n",
    "\n",
    "r = requests.post('https://rinocloud.com/api/1/files/get_metadata/',\n",
    "                  json= json.dumps(payload), headers=headers)\n",
    "print json.dumps(r1.json(), indent=4)"
   ]
  },
  {
   "cell_type": "code",
   "execution_count": 162,
   "metadata": {
    "collapsed": false
   },
   "outputs": [
    {
     "data": {
      "text/plain": [
       "'{\"id\": 245}'"
      ]
     },
     "execution_count": 162,
     "metadata": {},
     "output_type": "execute_result"
    }
   ],
   "source": [
    "json.dumps(payload)"
   ]
  },
  {
   "cell_type": "code",
   "execution_count": 184,
   "metadata": {
    "collapsed": false
   },
   "outputs": [
    {
     "name": "stdout",
     "output_type": "stream",
     "text": [
      "<Response [200]>\n",
      "{\n",
      "    \"project_name\": \"eoinisthebest\", \n",
      "    \"name\": \"testcsv.txt\", \n",
      "    \"parent\": null, \n",
      "    \"size_str\": \"12.4 kB\", \n",
      "    \"shared\": false, \n",
      "    \"share_code\": null, \n",
      "    \"notes\": null, \n",
      "    \"tags\": null, \n",
      "    \"format_string\": null, \n",
      "    \"project\": 5, \n",
      "    \"created_on\": \"2016-02-29T21:45:26.695726Z\", \n",
      "    \"updated_on\": \"2016-02-29T21:45:26.695747Z\", \n",
      "    \"owner\": \"Jamie\", \n",
      "    \"updated_on_str\": \"a day ago\", \n",
      "    \"size\": 12361, \n",
      "    \"type\": \"file\", \n",
      "    \"id\": 245, \n",
      "    \"created_on_str\": \"a day ago\", \n",
      "    \"metadata\": {}\n",
      "}\n"
     ]
    }
   ],
   "source": [
    "payload = {'id': 245}\n",
    "headers = {\n",
    "    'Authorization': 'Token %s' %'4db774dcfa4f0985591e3571d89f1062e083e638',\n",
    "    'X-Requested-With': 'XMLHttpRequest'\n",
    "}\n",
    "\n",
    "r = requests.post('http://staging.rinocloud.com/api/1/files/get_metadata/',\n",
    "                  data=payload, headers=headers)\n",
    "print r\n",
    "print json.dumps(r.json(), indent=4)"
   ]
  },
  {
   "cell_type": "code",
   "execution_count": 217,
   "metadata": {
    "collapsed": false
   },
   "outputs": [
    {
     "data": {
      "text/plain": [
       "{u'created_on': u'2016-02-29T21:45:26.695726Z',\n",
       " u'created_on_str': u'a day ago',\n",
       " u'format_string': None,\n",
       " u'id': 245,\n",
       " u'metadata': {},\n",
       " u'name': u'testcsv.txt',\n",
       " u'notes': None,\n",
       " u'owner': u'Jamie',\n",
       " u'parent': None,\n",
       " u'project': 5,\n",
       " u'project_name': u'eoinisthebest',\n",
       " u'share_code': None,\n",
       " u'shared': False,\n",
       " u'size': 12361,\n",
       " u'size_str': u'12.4 kB',\n",
       " u'tags': None,\n",
       " u'type': u'file',\n",
       " u'updated_on': u'2016-02-29T21:45:26.695747Z',\n",
       " u'updated_on_str': u'a day ago'}"
      ]
     },
     "execution_count": 217,
     "metadata": {},
     "output_type": "execute_result"
    }
   ],
   "source": [
    "json.loads(json.dumps(r.json()))"
   ]
  },
  {
   "cell_type": "code",
   "execution_count": 237,
   "metadata": {
    "collapsed": false
   },
   "outputs": [
    {
     "data": {
      "text/plain": [
       "str"
      ]
     },
     "execution_count": 237,
     "metadata": {},
     "output_type": "execute_result"
    }
   ],
   "source": [
    "type(r._content)"
   ]
  },
  {
   "cell_type": "code",
   "execution_count": 221,
   "metadata": {
    "collapsed": false
   },
   "outputs": [],
   "source": [
    "def json_loads_byteified(json_text):\n",
    "    return _byteify(\n",
    "        json.loads(json_text, object_hook=_byteify),\n",
    "        ignore_dicts=True\n",
    "    )\n",
    "\n",
    "def _byteify(data, ignore_dicts = False):\n",
    "    # if this is a unicode string, return its string representation\n",
    "    if isinstance(data, unicode):\n",
    "        return data.encode('utf-8')\n",
    "    # if this is a list of values, return list of byteified values\n",
    "    if isinstance(data, list):\n",
    "        return [ _byteify(item, ignore_dicts=True) for item in data ]\n",
    "    # if this is a dictionary, return dictionary of byteified keys and values\n",
    "    # but only if we haven't already byteified it\n",
    "    if isinstance(data, dict) and not ignore_dicts:\n",
    "        return {\n",
    "            _byteify(key, ignore_dicts=True): _byteify(value, ignore_dicts=True)\n",
    "            for key, value in data.iteritems()\n",
    "        }\n",
    "    # if it's anything else, return it in its original form\n",
    "    return data"
   ]
  },
  {
   "cell_type": "code",
   "execution_count": 252,
   "metadata": {
    "collapsed": false
   },
   "outputs": [],
   "source": [
    "output=json_loads_byteified(r._content)"
   ]
  },
  {
   "cell_type": "code",
   "execution_count": 253,
   "metadata": {
    "collapsed": false
   },
   "outputs": [
    {
     "data": {
      "text/plain": [
       "{'created_on': '2016-02-29T21:45:26.695726Z',\n",
       " 'created_on_str': 'a day ago',\n",
       " 'format_string': None,\n",
       " 'id': 245,\n",
       " 'metadata': {},\n",
       " 'name': 'testcsv.txt',\n",
       " 'notes': None,\n",
       " 'owner': 'Jamie',\n",
       " 'parent': None,\n",
       " 'project': 5,\n",
       " 'project_name': 'eoinisthebest',\n",
       " 'share_code': None,\n",
       " 'shared': False,\n",
       " 'size': 12361,\n",
       " 'size_str': '12.4 kB',\n",
       " 'tags': None,\n",
       " 'type': 'file',\n",
       " 'updated_on': '2016-02-29T21:45:26.695747Z',\n",
       " 'updated_on_str': 'a day ago'}"
      ]
     },
     "execution_count": 253,
     "metadata": {},
     "output_type": "execute_result"
    }
   ],
   "source": [
    "output"
   ]
  },
  {
   "cell_type": "code",
   "execution_count": 245,
   "metadata": {
    "collapsed": false
   },
   "outputs": [],
   "source": [
    "a={'key':44}"
   ]
  },
  {
   "cell_type": "code",
   "execution_count": 250,
   "metadata": {
    "collapsed": false
   },
   "outputs": [],
   "source": [
    "a=r.json()"
   ]
  },
  {
   "cell_type": "code",
   "execution_count": 249,
   "metadata": {
    "collapsed": false
   },
   "outputs": [
    {
     "data": {
      "text/plain": [
       "245"
      ]
     },
     "execution_count": 249,
     "metadata": {},
     "output_type": "execute_result"
    }
   ],
   "source": [
    "a.get('id')"
   ]
  },
  {
   "cell_type": "code",
   "execution_count": 251,
   "metadata": {
    "collapsed": false
   },
   "outputs": [
    {
     "data": {
      "text/plain": [
       "{u'created_on': u'2016-02-29T21:45:26.695726Z',\n",
       " u'created_on_str': u'a day ago',\n",
       " u'format_string': None,\n",
       " u'id': 245,\n",
       " u'metadata': {},\n",
       " u'name': u'testcsv.txt',\n",
       " u'notes': None,\n",
       " u'owner': u'Jamie',\n",
       " u'parent': None,\n",
       " u'project': 5,\n",
       " u'project_name': u'eoinisthebest',\n",
       " u'share_code': None,\n",
       " u'shared': False,\n",
       " u'size': 12361,\n",
       " u'size_str': u'12.4 kB',\n",
       " u'tags': None,\n",
       " u'type': u'file',\n",
       " u'updated_on': u'2016-02-29T21:45:26.695747Z',\n",
       " u'updated_on_str': u'a day ago'}"
      ]
     },
     "execution_count": 251,
     "metadata": {},
     "output_type": "execute_result"
    }
   ],
   "source": [
    "a"
   ]
  },
  {
   "cell_type": "code",
   "execution_count": 271,
   "metadata": {
    "collapsed": true
   },
   "outputs": [],
   "source": [
    "a = {'key1':1}\n",
    "b = {'key2':2}\n",
    "c = {'key3':3}"
   ]
  },
  {
   "cell_type": "code",
   "execution_count": 272,
   "metadata": {
    "collapsed": false
   },
   "outputs": [
    {
     "ename": "TypeError",
     "evalue": "'NoneType' object is not iterable",
     "output_type": "error",
     "traceback": [
      "\u001b[0;31m---------------------------------------------------------------------------\u001b[0m",
      "\u001b[0;31mTypeError\u001b[0m                                 Traceback (most recent call last)",
      "\u001b[0;32m<ipython-input-272-d23682f9adf5>\u001b[0m in \u001b[0;36m<module>\u001b[0;34m()\u001b[0m\n\u001b[0;32m----> 1\u001b[0;31m \u001b[0ma\u001b[0m\u001b[0;34m.\u001b[0m\u001b[0mupdate\u001b[0m\u001b[0;34m(\u001b[0m\u001b[0mb\u001b[0m\u001b[0;34m.\u001b[0m\u001b[0mupdate\u001b[0m\u001b[0;34m(\u001b[0m\u001b[0mc\u001b[0m\u001b[0;34m)\u001b[0m\u001b[0;34m)\u001b[0m\u001b[0;34m\u001b[0m\u001b[0m\n\u001b[0m",
      "\u001b[0;31mTypeError\u001b[0m: 'NoneType' object is not iterable"
     ]
    }
   ],
   "source": [
    "a.update(b.update(c))"
   ]
  },
  {
   "cell_type": "code",
   "execution_count": 273,
   "metadata": {
    "collapsed": false
   },
   "outputs": [
    {
     "data": {
      "text/plain": [
       "{'key1': 1}"
      ]
     },
     "execution_count": 273,
     "metadata": {},
     "output_type": "execute_result"
    }
   ],
   "source": [
    "a"
   ]
  },
  {
   "cell_type": "code",
   "execution_count": 302,
   "metadata": {
    "collapsed": true
   },
   "outputs": [],
   "source": [
    "a = {'key1':1, 'key2':2, 'key3':3}"
   ]
  },
  {
   "cell_type": "code",
   "execution_count": 303,
   "metadata": {
    "collapsed": false
   },
   "outputs": [],
   "source": [
    "def dictionary_clean_up(dictionary):\n",
    "    new_dict = dictionary.copy()\n",
    "    for key in ['key1', 'key2']:\n",
    "        new_dict.pop(key, None)\n",
    "    return new_dict"
   ]
  },
  {
   "cell_type": "code",
   "execution_count": 304,
   "metadata": {
    "collapsed": false
   },
   "outputs": [],
   "source": [
    "b = dictionary_clean_up(a)"
   ]
  },
  {
   "cell_type": "code",
   "execution_count": 305,
   "metadata": {
    "collapsed": false
   },
   "outputs": [
    {
     "data": {
      "text/plain": [
       "{'key1': 1, 'key2': 2, 'key3': 3}"
      ]
     },
     "execution_count": 305,
     "metadata": {},
     "output_type": "execute_result"
    }
   ],
   "source": [
    "a"
   ]
  },
  {
   "cell_type": "code",
   "execution_count": 306,
   "metadata": {
    "collapsed": false
   },
   "outputs": [
    {
     "data": {
      "text/plain": [
       "{'key3': 3}"
      ]
     },
     "execution_count": 306,
     "metadata": {},
     "output_type": "execute_result"
    }
   ],
   "source": [
    "b"
   ]
  },
  {
   "cell_type": "code",
   "execution_count": 288,
   "metadata": {
    "collapsed": false
   },
   "outputs": [
    {
     "data": {
      "text/plain": [
       "2"
      ]
     },
     "execution_count": 288,
     "metadata": {},
     "output_type": "execute_result"
    }
   ],
   "source": [
    "a.pop('key2', None)"
   ]
  },
  {
   "cell_type": "code",
   "execution_count": 289,
   "metadata": {
    "collapsed": false
   },
   "outputs": [
    {
     "data": {
      "text/plain": [
       "{'key1': 1, 'key3': 3}"
      ]
     },
     "execution_count": 289,
     "metadata": {},
     "output_type": "execute_result"
    }
   ],
   "source": [
    "a"
   ]
  },
  {
   "cell_type": "code",
   "execution_count": 318,
   "metadata": {
    "collapsed": true
   },
   "outputs": [],
   "source": [
    "class Test(object):\n",
    "    def hi(self):\n",
    "        return 'yo'\n",
    "    def hello(self):\n",
    "        return self.hi()"
   ]
  },
  {
   "cell_type": "code",
   "execution_count": 319,
   "metadata": {
    "collapsed": true
   },
   "outputs": [],
   "source": [
    "test = Test()"
   ]
  },
  {
   "cell_type": "code",
   "execution_count": 321,
   "metadata": {
    "collapsed": false
   },
   "outputs": [
    {
     "data": {
      "text/plain": [
       "'yo'"
      ]
     },
     "execution_count": 321,
     "metadata": {},
     "output_type": "execute_result"
    }
   ],
   "source": [
    "test.hello()"
   ]
  },
  {
   "cell_type": "code",
   "execution_count": null,
   "metadata": {
    "collapsed": true
   },
   "outputs": [],
   "source": []
  }
 ],
 "metadata": {
  "kernelspec": {
   "display_name": "Python 2",
   "language": "python",
   "name": "python2"
  },
  "language_info": {
   "codemirror_mode": {
    "name": "ipython",
    "version": 2
   },
   "file_extension": ".py",
   "mimetype": "text/x-python",
   "name": "python",
   "nbconvert_exporter": "python",
   "pygments_lexer": "ipython2",
   "version": "2.7.10"
  }
 },
 "nbformat": 4,
 "nbformat_minor": 0
}
