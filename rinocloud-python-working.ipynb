{
 "cells": [
  {
   "cell_type": "code",
   "execution_count": 1,
   "metadata": {
    "collapsed": true
   },
   "outputs": [],
   "source": [
    "import requests\n",
    "import json"
   ]
  },
  {
   "cell_type": "code",
   "execution_count": 6,
   "metadata": {
    "collapsed": false
   },
   "outputs": [
    {
     "name": "stdout",
     "output_type": "stream",
     "text": [
      "\n",
      "Creating a folder\n",
      "Result was successful:  True\n",
      "{\n",
      "    \"project_name\": \"eoinisthebest\", \n",
      "    \"name\": \"testcsv.txt\", \n",
      "    \"parent\": null, \n",
      "    \"size_str\": \"12.4 kB\", \n",
      "    \"shared\": false, \n",
      "    \"share_code\": null, \n",
      "    \"notes\": null, \n",
      "    \"tags\": null, \n",
      "    \"format_string\": null, \n",
      "    \"project\": 5, \n",
      "    \"created_on\": \"2016-02-21T12:01:26.313723Z\", \n",
      "    \"updated_on\": \"2016-02-21T12:01:26.313767Z\", \n",
      "    \"owner\": \"Jamie\", \n",
      "    \"updated_on_str\": \"just now\", \n",
      "    \"size\": 12361, \n",
      "    \"type\": \"file\", \n",
      "    \"id\": 213, \n",
      "    \"created_on_str\": \"just now\", \n",
      "    \"metadata\": {}\n",
      "}\n"
     ]
    }
   ],
   "source": [
    "headers = {\n",
    "    'Authorization': 'Token %s' %'4db774dcfa4f0985591e3571d89f1062e083e638',\n",
    "    'X-Requested-With': 'XMLHttpRequest'\n",
    "}\n",
    "file = {'file': open('testcsv.txt', 'rb')}\n",
    "payload = {'parent': 'my_test_folder'}\n",
    "\n",
    "print \"\\nCreating a folder\"\n",
    "r1 = requests.post(\"http://staging.rinocloud.com/api/1/files/upload_multipart/\", files=file ,data=payload, headers=headers)\n",
    "\n",
    "print \"Result was successful: \", r1.status_code == 201\n",
    "print json.dumps(r1.json(), indent=4)"
   ]
  },
  {
   "cell_type": "code",
   "execution_count": 1,
   "metadata": {
    "collapsed": false
   },
   "outputs": [],
   "source": [
    "def authenticate(*args):\n",
    "    if len(args)>1:\n",
    "        raise Exception('authenticate takes only 0 or 1 input arguments.') \n",
    "  \n",
    "    global rinocloud_auth_token\n",
    "    if len(args) == 1:\n",
    "        if isinstance(args[0], str):\n",
    "            rinocloud_auth_token = args[0]\n",
    "        else:\n",
    "            raise Exception('Your API token should be entered as a string.') \n",
    "    try:\n",
    "        return 'Token ' + rinocloud_auth_token\n",
    "    except:\n",
    "        raise Exception('Set your API token using the authenticate function.') \n",
    "        \n",
    "\n",
    "\n",
    "         \n",
    "\n"
   ]
  },
  {
   "cell_type": "code",
   "execution_count": 3,
   "metadata": {
    "collapsed": false
   },
   "outputs": [
    {
     "data": {
      "text/plain": [
       "'Token 5647464g474g'"
      ]
     },
     "execution_count": 3,
     "metadata": {},
     "output_type": "execute_result"
    }
   ],
   "source": [
    "authenticate('5647464g474g')"
   ]
  },
  {
   "cell_type": "code",
   "execution_count": 40,
   "metadata": {
    "collapsed": false
   },
   "outputs": [
    {
     "name": "stdout",
     "output_type": "stream",
     "text": [
      "9\n"
     ]
    }
   ],
   "source": [
    "print \"9\""
   ]
  },
  {
   "cell_type": "code",
   "execution_count": 4,
   "metadata": {
    "collapsed": false
   },
   "outputs": [],
   "source": [
    "globals().clear()"
   ]
  },
  {
   "cell_type": "code",
   "execution_count": 5,
   "metadata": {
    "collapsed": false
   },
   "outputs": [
    {
     "ename": "NameError",
     "evalue": "name 'rinocloud_auth_token' is not defined",
     "output_type": "error",
     "traceback": [
      "\u001b[0;31m---------------------------------------------------------------------------\u001b[0m",
      "\u001b[0;31mNameError\u001b[0m                                 Traceback (most recent call last)",
      "\u001b[0;32m<ipython-input-5-6d832ac76c52>\u001b[0m in \u001b[0;36m<module>\u001b[0;34m()\u001b[0m\n\u001b[0;32m----> 1\u001b[0;31m \u001b[0mrinocloud_auth_token\u001b[0m\u001b[0;34m\u001b[0m\u001b[0m\n\u001b[0m",
      "\u001b[0;31mNameError\u001b[0m: name 'rinocloud_auth_token' is not defined"
     ]
    }
   ],
   "source": [
    "rinocloud_auth_token"
   ]
  },
  {
   "cell_type": "code",
   "execution_count": 1,
   "metadata": {
    "collapsed": false
   },
   "outputs": [
    {
     "ename": "ImportError",
     "evalue": "No module named rinocloudpy",
     "output_type": "error",
     "traceback": [
      "\u001b[0;31m---------------------------------------------------------------------------\u001b[0m",
      "\u001b[0;31mImportError\u001b[0m                               Traceback (most recent call last)",
      "\u001b[0;32m<ipython-input-1-17367fd39952>\u001b[0m in \u001b[0;36m<module>\u001b[0;34m()\u001b[0m\n\u001b[0;32m----> 1\u001b[0;31m \u001b[0;32mfrom\u001b[0m \u001b[0mrinocloudpy\u001b[0m \u001b[0;32mimport\u001b[0m \u001b[0mrinocloud\u001b[0m\u001b[0;34m\u001b[0m\u001b[0m\n\u001b[0m",
      "\u001b[0;31mImportError\u001b[0m: No module named rinocloudpy"
     ]
    }
   ],
   "source": [
    "from rinocloudpy import rinocloud"
   ]
  },
  {
   "cell_type": "code",
   "execution_count": 1,
   "metadata": {
    "collapsed": false
   },
   "outputs": [],
   "source": [
    "import rinocloud"
   ]
  },
  {
   "cell_type": "code",
   "execution_count": 2,
   "metadata": {
    "collapsed": false
   },
   "outputs": [
    {
     "data": {
      "text/plain": [
       "'Token 4db774dcfa4f0985591e3571d89f1062e083e638'"
      ]
     },
     "execution_count": 2,
     "metadata": {},
     "output_type": "execute_result"
    }
   ],
   "source": [
    "rinocloud.authenticate('4db774dcfa4f0985591e3571d89f1062e083e638')"
   ]
  },
  {
   "cell_type": "code",
   "execution_count": 5,
   "metadata": {
    "collapsed": false
   },
   "outputs": [
    {
     "data": {
      "text/plain": [
       "'{\\n    \"status_code\": 400, \\n    \"errors\": {\\n        \"tags\": \"Expected a list of items but got type \\\\\"unicode\\\\\".\"\\n    }\\n}'"
      ]
     },
     "execution_count": 5,
     "metadata": {},
     "output_type": "execute_result"
    }
   ],
   "source": [
    "rinocloud.upload('testcsv.txt', metadata = {'tags': 'test'},)"
   ]
  },
  {
   "cell_type": "code",
   "execution_count": 13,
   "metadata": {
    "collapsed": false
   },
   "outputs": [],
   "source": [
    "out=rinocloud.upload('testcsv.txt',     metadata = {\n",
    "      'sample': 6,\n",
    "      'tags': [\"math\", \"proof\", \"riemman\"]\n",
    "    })"
   ]
  },
  {
   "cell_type": "code",
   "execution_count": 11,
   "metadata": {
    "collapsed": false
   },
   "outputs": [
    {
     "name": "stdout",
     "output_type": "stream",
     "text": [
      "{\n",
      "    \"project_name\": \"eoinisthebest\", \n",
      "    \"name\": \"testcsv(1).txt\", \n",
      "    \"parent\": null, \n",
      "    \"size_str\": \"12.4 kB\", \n",
      "    \"shared\": false, \n",
      "    \"share_code\": null, \n",
      "    \"notes\": null, \n",
      "    \"tags\": [\n",
      "        \"math\", \n",
      "        \"proof\", \n",
      "        \"riemman\"\n",
      "    ], \n",
      "    \"format_string\": null, \n",
      "    \"project\": 5, \n",
      "    \"created_on\": \"2016-02-22T22:38:01.937019Z\", \n",
      "    \"updated_on\": \"2016-02-22T22:38:01.937048Z\", \n",
      "    \"owner\": \"Jamie\", \n",
      "    \"updated_on_str\": \"just now\", \n",
      "    \"size\": 12361, \n",
      "    \"type\": \"file\", \n",
      "    \"id\": 221, \n",
      "    \"created_on_str\": \"just now\", \n",
      "    \"metadata\": {\n",
      "        \"sample\": 6\n",
      "    }\n",
      "}\n"
     ]
    }
   ],
   "source": [
    "print out"
   ]
  },
  {
   "cell_type": "code",
   "execution_count": 6,
   "metadata": {
    "collapsed": false
   },
   "outputs": [
    {
     "name": "stdout",
     "output_type": "stream",
     "text": [
      "{\n",
      "    \"project_name\": \"eoinisthebest\", \n",
      "    \"name\": \"testcsv(5).txt\", \n",
      "    \"parent\": null, \n",
      "    \"size_str\": \"12.4 kB\", \n",
      "    \"shared\": false, \n",
      "    \"share_code\": null, \n",
      "    \"notes\": null, \n",
      "    \"tags\": null, \n",
      "    \"format_string\": null, \n",
      "    \"project\": 5, \n",
      "    \"created_on\": \"2016-02-22T21:11:59.055213Z\", \n",
      "    \"updated_on\": \"2016-02-22T21:11:59.055237Z\", \n",
      "    \"owner\": \"Jamie\", \n",
      "    \"updated_on_str\": \"just now\", \n",
      "    \"size\": 12361, \n",
      "    \"type\": \"file\", \n",
      "    \"id\": 218, \n",
      "    \"created_on_str\": \"just now\", \n",
      "    \"metadata\": {}\n",
      "}\n"
     ]
    }
   ],
   "source": [
    "print out"
   ]
  },
  {
   "cell_type": "code",
   "execution_count": 11,
   "metadata": {
    "collapsed": false
   },
   "outputs": [
    {
     "data": {
      "text/plain": [
       "str"
      ]
     },
     "execution_count": 11,
     "metadata": {},
     "output_type": "execute_result"
    }
   ],
   "source": [
    "type('hi')"
   ]
  },
  {
   "cell_type": "code",
   "execution_count": 13,
   "metadata": {
    "collapsed": false
   },
   "outputs": [
    {
     "data": {
      "text/plain": [
       "int"
      ]
     },
     "execution_count": 13,
     "metadata": {},
     "output_type": "execute_result"
    }
   ],
   "source": [
    "type(4)"
   ]
  },
  {
   "cell_type": "code",
   "execution_count": null,
   "metadata": {
    "collapsed": true
   },
   "outputs": [],
   "source": []
  }
 ],
 "metadata": {
  "kernelspec": {
   "display_name": "Python 2",
   "language": "python",
   "name": "python2"
  },
  "language_info": {
   "codemirror_mode": {
    "name": "ipython",
    "version": 2
   },
   "file_extension": ".py",
   "mimetype": "text/x-python",
   "name": "python",
   "nbconvert_exporter": "python",
   "pygments_lexer": "ipython2",
   "version": "2.7.10"
  }
 },
 "nbformat": 4,
 "nbformat_minor": 0
}
